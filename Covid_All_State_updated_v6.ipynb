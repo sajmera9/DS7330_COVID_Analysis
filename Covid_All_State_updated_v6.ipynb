{
 "cells": [
  {
   "cell_type": "code",
   "execution_count": null,
   "id": "1079eb54-58fe-4999-9f06-896cd13b52d6",
   "metadata": {},
   "outputs": [],
   "source": [
    "import json"
   ]
  },
  {
   "cell_type": "code",
   "execution_count": null,
   "id": "64ccd7d4-9568-4aac-aeed-e481874d6ed5",
   "metadata": {},
   "outputs": [],
   "source": [
    "import urllib"
   ]
  },
  {
   "cell_type": "code",
   "execution_count": null,
   "id": "6e05192e-ecf4-4e2e-89c9-27772ed6780a",
   "metadata": {},
   "outputs": [],
   "source": [
    "import csv"
   ]
  },
  {
   "cell_type": "code",
   "execution_count": null,
   "id": "a9c2fb58-ab7e-47d5-94dc-b224c936e825",
   "metadata": {},
   "outputs": [],
   "source": [
    "import pandas as pd"
   ]
  },
  {
   "cell_type": "code",
   "execution_count": null,
   "id": "875ec2ad-b988-4232-985f-aa5f6558451f",
   "metadata": {},
   "outputs": [],
   "source": [
    "import requests"
   ]
  },
  {
   "cell_type": "code",
   "execution_count": null,
   "id": "b26c25dd-b2d3-48ab-a9a8-28957ae8b12b",
   "metadata": {},
   "outputs": [],
   "source": [
    "from datetime import date"
   ]
  },
  {
   "cell_type": "code",
   "execution_count": null,
   "id": "4ae348b3-7d9f-4a58-90ed-03a29c4cdaae",
   "metadata": {},
   "outputs": [],
   "source": [
    "import matplotlib.pyplot as plt"
   ]
  },
  {
   "cell_type": "code",
   "execution_count": null,
   "id": "a327794a-c805-4a9b-a99a-565a01d9c15b",
   "metadata": {},
   "outputs": [],
   "source": [
    "import numpy as np"
   ]
  },
  {
   "cell_type": "code",
   "execution_count": null,
   "id": "cee211b4-dd67-4a43-aadd-9ee2ab520be9",
   "metadata": {},
   "outputs": [],
   "source": [
    "import seaborn as sns\n",
    "sns.set(color_codes=True)"
   ]
  },
  {
   "cell_type": "code",
   "execution_count": null,
   "id": "912c7908-679a-4e3b-81cf-41d2d500d30b",
   "metadata": {},
   "outputs": [],
   "source": [
    "import theano.tensor as tt\n",
    "from matplotlib import gridspec\n",
    "%matplotlib inline"
   ]
  },
  {
   "cell_type": "code",
   "execution_count": null,
   "id": "2748f109-e1a3-4281-90c4-18b24140b37b",
   "metadata": {},
   "outputs": [],
   "source": [
    "result = requests.get('https://api.covidactnow.org/v2/states.timeseries.json?apiKey=1540d77cf9a0422b88a2d90e989bbd23')"
   ]
  },
  {
   "cell_type": "code",
   "execution_count": null,
   "id": "797d6215-b8e1-4caa-a73e-61ea5dce4b44",
   "metadata": {},
   "outputs": [],
   "source": [
    "result.status_code"
   ]
  },
  {
   "cell_type": "code",
   "execution_count": null,
   "id": "74fc8cab-f46e-4eea-bfec-4a4354a34f8c",
   "metadata": {},
   "outputs": [],
   "source": [
    "state_json = result.json()"
   ]
  },
  {
   "cell_type": "code",
   "execution_count": null,
   "id": "fa25259f-d62a-404d-9a3e-3a496041e0dd",
   "metadata": {},
   "outputs": [],
   "source": [
    "state_str = json.dumps(state_json,indent=2)"
   ]
  },
  {
   "cell_type": "code",
   "execution_count": null,
   "id": "d162ad8a-23b7-4bf4-a463-9923e53cf9ee",
   "metadata": {},
   "outputs": [],
   "source": [
    "state_json"
   ]
  },
  {
   "cell_type": "code",
   "execution_count": null,
   "id": "c425dfdf-78bd-4c6d-9a02-38a8d821ed92",
   "metadata": {},
   "outputs": [],
   "source": [
    "type(state_json)"
   ]
  },
  {
   "cell_type": "code",
   "execution_count": null,
   "id": "d697d80a-c895-4e52-97ed-8406035b2763",
   "metadata": {},
   "outputs": [],
   "source": [
    "state_json[0]"
   ]
  },
  {
   "cell_type": "code",
   "execution_count": null,
   "id": "773107e4-e95a-4812-8ad7-3d6ef6464318",
   "metadata": {},
   "outputs": [],
   "source": [
    "state_json[1]"
   ]
  },
  {
   "cell_type": "code",
   "execution_count": null,
   "id": "d32ef28c-4fbc-4b44-9db4-b86430b2208d",
   "metadata": {},
   "outputs": [],
   "source": [
    "for state_summary in state_json:\n",
    "     metric=pd.DataFrame(state_summary['metricsTimeseries'])        "
   ]
  },
  {
   "cell_type": "code",
   "execution_count": null,
   "id": "856a6836-dc17-456c-81dd-e77580a44749",
   "metadata": {},
   "outputs": [],
   "source": [
    "(metric)"
   ]
  },
  {
   "cell_type": "code",
   "execution_count": null,
   "id": "18139c65-9e1e-4f3a-a49f-b73a5c092d88",
   "metadata": {},
   "outputs": [],
   "source": [
    "if state_summary['metricsTimeseries']:\n",
    "    metrics=pd.DataFrame(metric[['date','testPositivityRatio','caseDensity','contactTracerCapacityRatio','infectionRate','infectionRateCI90','icuHeadroomRatio','icuCapacityRatio']])"
   ]
  },
  {
   "cell_type": "code",
   "execution_count": null,
   "id": "6d97be3d-7749-4d68-b13e-492deba69867",
   "metadata": {},
   "outputs": [],
   "source": [
    "metrics['month-year'] = metrics['date'].str.slice(0,7)"
   ]
  },
  {
   "cell_type": "code",
   "execution_count": null,
   "id": "655700db-5aaa-46ac-8c4e-712bd5d981f8",
   "metadata": {},
   "outputs": [],
   "source": [
    "metrics.groupby('month-year').mean()"
   ]
  },
  {
   "cell_type": "code",
   "execution_count": null,
   "id": "c8323b8e-d089-403a-b743-2218add39599",
   "metadata": {},
   "outputs": [],
   "source": [
    "for state_summary in state_json:\n",
    "     actual=pd.DataFrame(state_summary['actualsTimeseries'])        "
   ]
  },
  {
   "cell_type": "code",
   "execution_count": null,
   "id": "c6fbed65-3d1f-4778-8c5e-f78e0a2b47a7",
   "metadata": {},
   "outputs": [],
   "source": [
    "if state_summary['actualsTimeseries']:\n",
    "    actuals=pd.DataFrame(actual[['date','cases','deaths','positiveTests','negativeTests','newCases','newDeaths']])"
   ]
  },
  {
   "cell_type": "code",
   "execution_count": null,
   "id": "9af56c98-25d8-45f3-9936-0fb081cbd3c2",
   "metadata": {},
   "outputs": [],
   "source": [
    "actuals['month-year'] = actual['date'].str.slice(0,4)\n",
    "actuals"
   ]
  },
  {
   "cell_type": "code",
   "execution_count": null,
   "id": "f75dad90-4b16-4503-800e-5d4cb9be22b1",
   "metadata": {},
   "outputs": [],
   "source": [
    "actuals.groupby('month-year').mean()"
   ]
  },
  {
   "cell_type": "code",
   "execution_count": null,
   "id": "f2d0a27d-1054-454c-beed-ba13d8b14b2e",
   "metadata": {},
   "outputs": [],
   "source": [
    "save_metrics = []"
   ]
  },
  {
   "cell_type": "code",
   "execution_count": null,
   "id": "d188e8a8-824e-40cf-aad7-2b66dbbc666a",
   "metadata": {},
   "outputs": [],
   "source": [
    "save_actuals = []\n",
    "actual_df = []"
   ]
  },
  {
   "cell_type": "code",
   "execution_count": null,
   "id": "2e8b8ae9-bdec-420a-ba94-95f36c74fb8f",
   "metadata": {},
   "outputs": [],
   "source": [
    "def get_metrics():\n",
    "    state_json = result.json()\n",
    "    for state_summary in state_json:\n",
    "        metrics=pd.DataFrame(state_summary['metricsTimeseries']) \n",
    "        metrics['month-year'] = metrics['date'].str.slice(0,7)\n",
    "        state=state_summary['state']\n",
    "        state_metric = metrics.groupby('month-year').sum()\n",
    "        state_metric['state']=state\n",
    "        print(state_metric)\n",
    "        save_metrics.append(state_metric)\n",
    "     "
   ]
  },
  {
   "cell_type": "code",
   "execution_count": null,
   "id": "db7441bc-943d-4d2e-a531-5cc7761e52ac",
   "metadata": {},
   "outputs": [],
   "source": [
    "get_metrics()\n"
   ]
  },
  {
   "cell_type": "code",
   "execution_count": null,
   "id": "96d10cc3-abfa-456e-8377-571dd306af9b",
   "metadata": {},
   "outputs": [],
   "source": [
    "save_metrics"
   ]
  },
  {
   "cell_type": "code",
   "execution_count": null,
   "id": "6230fdff-a6e2-4b7b-8b9e-4310d4aac2a5",
   "metadata": {},
   "outputs": [],
   "source": [
    " state_summary"
   ]
  },
  {
   "cell_type": "code",
   "execution_count": null,
   "id": "c1259cf5-8358-4b6f-beca-8032cfc93585",
   "metadata": {},
   "outputs": [],
   "source": [
    "def get_actuals():\n",
    "    state_json = result.json()\n",
    "    for state_summary in state_json:\n",
    "        actuals=pd.DataFrame(state_summary['actualsTimeseries']) \n",
    "        actuals['month-year'] = actuals['date'].str.slice(0,7)\n",
    "        actuals['month']=actuals['month-year'].str.slice(5,7)\n",
    "        actuals['year']=actuals['month-year'].str.slice(0,4)\n",
    "        state=state_summary['state']\n",
    "        month=actuals['month']\n",
    "        year=actuals['year']\n",
    "        #print(actuals)\n",
    "        state_actual = (actuals.groupby(['month-year']).sum().reset_index()[['month-year','cases','positiveTests','negativeTests','contactTracers','newCases','newDeaths','vaccinesDistributed','vaccinationsInitiated','vaccinationsCompleted','vaccinesAdministered']])\n",
    "        state_actual['state']=state\n",
    "        #state_actual['month']=month\n",
    "        #state_actual['year']=year\n",
    "        #state_actual = state_actual.reindex(columns=[\"month-year\",\"month\",\"year\",\"cases\",\"state\"])\n",
    "        print(state_actual)\n",
    "        save_actuals.append(state_actual)"
   ]
  },
  {
   "cell_type": "code",
   "execution_count": null,
   "id": "11fcebd8-b95a-422f-a8be-fe9c530ebde0",
   "metadata": {},
   "outputs": [],
   "source": [
    "get_actuals()"
   ]
  },
  {
   "cell_type": "code",
   "execution_count": null,
   "id": "276d31ad-b151-4f6d-99ef-110b2eef753f",
   "metadata": {},
   "outputs": [],
   "source": [
    "save_actuals"
   ]
  },
  {
   "cell_type": "code",
   "execution_count": null,
   "id": "776859f8-7837-4f75-a0bf-65aaf1bb19ee",
   "metadata": {},
   "outputs": [],
   "source": [
    "for actual_df_temp in save_actuals:\n",
    "    actual_df_2=pd.DataFrame(actual_df_temp) \n",
    "    actual_df = pd.DataFrame(actual_df).append(actual_df_2)\n",
    "    print(actual_df)"
   ]
  },
  {
   "cell_type": "code",
   "execution_count": null,
   "id": "4aee67ae-0597-4cee-b4a0-e9ad768d73a6",
   "metadata": {},
   "outputs": [],
   "source": [
    "type(actual_df)"
   ]
  },
  {
   "cell_type": "code",
   "execution_count": null,
   "id": "ed33ce21-1725-4c55-9e9e-edd52e5156aa",
   "metadata": {},
   "outputs": [],
   "source": [
    "actual_df.dtypes"
   ]
  },
  {
   "cell_type": "code",
   "execution_count": null,
   "id": "2ccee63f-03f4-4a49-b083-de244701d8e7",
   "metadata": {},
   "outputs": [],
   "source": [
    "actual_df.to_csv('Actuals_All_State.csv', index=False)"
   ]
  },
  {
   "cell_type": "code",
   "execution_count": null,
   "id": "dd7916d7-0348-4c62-a52b-f365d80b705c",
   "metadata": {},
   "outputs": [],
   "source": [
    "actual_df.info()"
   ]
  },
  {
   "cell_type": "code",
   "execution_count": 116,
   "id": "7186951f-e1a3-4fa5-a694-4c6a9baf4ded",
   "metadata": {},
   "outputs": [
    {
     "name": "stdout",
     "output_type": "stream",
     "text": [
      "<class 'pandas.core.frame.DataFrame'>\n",
      "RangeIndex: 26039 entries, 0 to 26038\n",
      "Data columns (total 39 columns):\n",
      " #   Column                                  Non-Null Count  Dtype  \n",
      "---  ------                                  --------------  -----  \n",
      " 0   date                                    26039 non-null  object \n",
      " 1   country                                 26039 non-null  object \n",
      " 2   state                                   26039 non-null  object \n",
      " 3   county                                  0 non-null      float64\n",
      " 4   fips                                    26039 non-null  int64  \n",
      " 5   lat                                     0 non-null      float64\n",
      " 6   long                                    0 non-null      float64\n",
      " 7   locationId                              26039 non-null  object \n",
      " 8   actuals.cases                           25628 non-null  float64\n",
      " 9   actuals.deaths                          25635 non-null  float64\n",
      " 10  actuals.positiveTests                   25138 non-null  float64\n",
      " 11  actuals.negativeTests                   25382 non-null  float64\n",
      " 12  actuals.contactTracers                  21242 non-null  float64\n",
      " 13  actuals.hospitalBeds.capacity           0 non-null      float64\n",
      " 14  actuals.hospitalBeds.currentUsageTotal  15110 non-null  float64\n",
      " 15  actuals.hospitalBeds.currentUsageCovid  15110 non-null  float64\n",
      " 16  actuals.hospitalBeds.typicalUsageRate   0 non-null      float64\n",
      " 17  actuals.icuBeds.capacity                15110 non-null  float64\n",
      " 18  actuals.icuBeds.currentUsageTotal       15110 non-null  float64\n",
      " 19  actuals.icuBeds.currentUsageCovid       15110 non-null  float64\n",
      " 20  actuals.icuBeds.typicalUsageRate        0 non-null      float64\n",
      " 21  actuals.newCases                        25491 non-null  float64\n",
      " 22  actuals.vaccinesDistributed             8282 non-null   float64\n",
      " 23  actuals.vaccinationsInitiated           8248 non-null   float64\n",
      " 24  actuals.vaccinationsCompleted           8248 non-null   float64\n",
      " 25  metrics.testPositivityRatio             25083 non-null  float64\n",
      " 26  metrics.testPositivityRatioDetails      0 non-null      float64\n",
      " 27  metrics.caseDensity                     25896 non-null  float64\n",
      " 28  metrics.contactTracerCapacityRatio      21091 non-null  float64\n",
      " 29  metrics.infectionRate                   25074 non-null  float64\n",
      " 30  metrics.infectionRateCI90               25074 non-null  float64\n",
      " 31  metrics.icuHeadroomRatio                15110 non-null  float64\n",
      " 32  metrics.icuHeadroomDetails              0 non-null      float64\n",
      " 33  metrics.icuCapacityRatio                15110 non-null  float64\n",
      " 34  riskLevels.overall                      26039 non-null  int64  \n",
      " 35  metrics.vaccinationsInitiatedRatio      8248 non-null   float64\n",
      " 36  metrics.vaccinationsCompletedRatio      8248 non-null   float64\n",
      " 37  actuals.newDeaths                       25450 non-null  float64\n",
      " 38  actuals.vaccinesAdministered            8282 non-null   float64\n",
      "dtypes: float64(33), int64(2), object(4)\n",
      "memory usage: 7.7+ MB\n"
     ]
    },
    {
     "data": {
      "text/html": [
       "<div>\n",
       "<style scoped>\n",
       "    .dataframe tbody tr th:only-of-type {\n",
       "        vertical-align: middle;\n",
       "    }\n",
       "\n",
       "    .dataframe tbody tr th {\n",
       "        vertical-align: top;\n",
       "    }\n",
       "\n",
       "    .dataframe thead th {\n",
       "        text-align: right;\n",
       "    }\n",
       "</style>\n",
       "<table border=\"1\" class=\"dataframe\">\n",
       "  <thead>\n",
       "    <tr style=\"text-align: right;\">\n",
       "      <th></th>\n",
       "      <th>date</th>\n",
       "      <th>country</th>\n",
       "      <th>state</th>\n",
       "      <th>county</th>\n",
       "      <th>fips</th>\n",
       "      <th>lat</th>\n",
       "      <th>long</th>\n",
       "      <th>locationId</th>\n",
       "      <th>actuals.cases</th>\n",
       "      <th>actuals.deaths</th>\n",
       "      <th>...</th>\n",
       "      <th>metrics.infectionRate</th>\n",
       "      <th>metrics.infectionRateCI90</th>\n",
       "      <th>metrics.icuHeadroomRatio</th>\n",
       "      <th>metrics.icuHeadroomDetails</th>\n",
       "      <th>metrics.icuCapacityRatio</th>\n",
       "      <th>riskLevels.overall</th>\n",
       "      <th>metrics.vaccinationsInitiatedRatio</th>\n",
       "      <th>metrics.vaccinationsCompletedRatio</th>\n",
       "      <th>actuals.newDeaths</th>\n",
       "      <th>actuals.vaccinesAdministered</th>\n",
       "    </tr>\n",
       "  </thead>\n",
       "  <tbody>\n",
       "    <tr>\n",
       "      <th>0</th>\n",
       "      <td>2020-03-01</td>\n",
       "      <td>US</td>\n",
       "      <td>AK</td>\n",
       "      <td>NaN</td>\n",
       "      <td>2</td>\n",
       "      <td>NaN</td>\n",
       "      <td>NaN</td>\n",
       "      <td>iso1:us#iso2:us-ak</td>\n",
       "      <td>NaN</td>\n",
       "      <td>NaN</td>\n",
       "      <td>...</td>\n",
       "      <td>NaN</td>\n",
       "      <td>NaN</td>\n",
       "      <td>NaN</td>\n",
       "      <td>NaN</td>\n",
       "      <td>NaN</td>\n",
       "      <td>0</td>\n",
       "      <td>NaN</td>\n",
       "      <td>NaN</td>\n",
       "      <td>NaN</td>\n",
       "      <td>NaN</td>\n",
       "    </tr>\n",
       "    <tr>\n",
       "      <th>1</th>\n",
       "      <td>2020-03-02</td>\n",
       "      <td>US</td>\n",
       "      <td>AK</td>\n",
       "      <td>NaN</td>\n",
       "      <td>2</td>\n",
       "      <td>NaN</td>\n",
       "      <td>NaN</td>\n",
       "      <td>iso1:us#iso2:us-ak</td>\n",
       "      <td>NaN</td>\n",
       "      <td>NaN</td>\n",
       "      <td>...</td>\n",
       "      <td>NaN</td>\n",
       "      <td>NaN</td>\n",
       "      <td>NaN</td>\n",
       "      <td>NaN</td>\n",
       "      <td>NaN</td>\n",
       "      <td>0</td>\n",
       "      <td>NaN</td>\n",
       "      <td>NaN</td>\n",
       "      <td>NaN</td>\n",
       "      <td>NaN</td>\n",
       "    </tr>\n",
       "    <tr>\n",
       "      <th>2</th>\n",
       "      <td>2020-03-03</td>\n",
       "      <td>US</td>\n",
       "      <td>AK</td>\n",
       "      <td>NaN</td>\n",
       "      <td>2</td>\n",
       "      <td>NaN</td>\n",
       "      <td>NaN</td>\n",
       "      <td>iso1:us#iso2:us-ak</td>\n",
       "      <td>NaN</td>\n",
       "      <td>NaN</td>\n",
       "      <td>...</td>\n",
       "      <td>NaN</td>\n",
       "      <td>NaN</td>\n",
       "      <td>NaN</td>\n",
       "      <td>NaN</td>\n",
       "      <td>NaN</td>\n",
       "      <td>0</td>\n",
       "      <td>NaN</td>\n",
       "      <td>NaN</td>\n",
       "      <td>NaN</td>\n",
       "      <td>NaN</td>\n",
       "    </tr>\n",
       "    <tr>\n",
       "      <th>3</th>\n",
       "      <td>2020-03-04</td>\n",
       "      <td>US</td>\n",
       "      <td>AK</td>\n",
       "      <td>NaN</td>\n",
       "      <td>2</td>\n",
       "      <td>NaN</td>\n",
       "      <td>NaN</td>\n",
       "      <td>iso1:us#iso2:us-ak</td>\n",
       "      <td>NaN</td>\n",
       "      <td>NaN</td>\n",
       "      <td>...</td>\n",
       "      <td>NaN</td>\n",
       "      <td>NaN</td>\n",
       "      <td>NaN</td>\n",
       "      <td>NaN</td>\n",
       "      <td>NaN</td>\n",
       "      <td>0</td>\n",
       "      <td>NaN</td>\n",
       "      <td>NaN</td>\n",
       "      <td>NaN</td>\n",
       "      <td>NaN</td>\n",
       "    </tr>\n",
       "    <tr>\n",
       "      <th>4</th>\n",
       "      <td>2020-03-05</td>\n",
       "      <td>US</td>\n",
       "      <td>AK</td>\n",
       "      <td>NaN</td>\n",
       "      <td>2</td>\n",
       "      <td>NaN</td>\n",
       "      <td>NaN</td>\n",
       "      <td>iso1:us#iso2:us-ak</td>\n",
       "      <td>NaN</td>\n",
       "      <td>NaN</td>\n",
       "      <td>...</td>\n",
       "      <td>NaN</td>\n",
       "      <td>NaN</td>\n",
       "      <td>NaN</td>\n",
       "      <td>NaN</td>\n",
       "      <td>NaN</td>\n",
       "      <td>0</td>\n",
       "      <td>NaN</td>\n",
       "      <td>NaN</td>\n",
       "      <td>NaN</td>\n",
       "      <td>NaN</td>\n",
       "    </tr>\n",
       "  </tbody>\n",
       "</table>\n",
       "<p>5 rows × 39 columns</p>\n",
       "</div>"
      ],
      "text/plain": [
       "         date country state  county  fips  lat  long          locationId  \\\n",
       "0  2020-03-01      US    AK     NaN     2  NaN   NaN  iso1:us#iso2:us-ak   \n",
       "1  2020-03-02      US    AK     NaN     2  NaN   NaN  iso1:us#iso2:us-ak   \n",
       "2  2020-03-03      US    AK     NaN     2  NaN   NaN  iso1:us#iso2:us-ak   \n",
       "3  2020-03-04      US    AK     NaN     2  NaN   NaN  iso1:us#iso2:us-ak   \n",
       "4  2020-03-05      US    AK     NaN     2  NaN   NaN  iso1:us#iso2:us-ak   \n",
       "\n",
       "   actuals.cases  actuals.deaths  ...  metrics.infectionRate  \\\n",
       "0            NaN             NaN  ...                    NaN   \n",
       "1            NaN             NaN  ...                    NaN   \n",
       "2            NaN             NaN  ...                    NaN   \n",
       "3            NaN             NaN  ...                    NaN   \n",
       "4            NaN             NaN  ...                    NaN   \n",
       "\n",
       "   metrics.infectionRateCI90  metrics.icuHeadroomRatio  \\\n",
       "0                        NaN                       NaN   \n",
       "1                        NaN                       NaN   \n",
       "2                        NaN                       NaN   \n",
       "3                        NaN                       NaN   \n",
       "4                        NaN                       NaN   \n",
       "\n",
       "   metrics.icuHeadroomDetails  metrics.icuCapacityRatio  riskLevels.overall  \\\n",
       "0                         NaN                       NaN                   0   \n",
       "1                         NaN                       NaN                   0   \n",
       "2                         NaN                       NaN                   0   \n",
       "3                         NaN                       NaN                   0   \n",
       "4                         NaN                       NaN                   0   \n",
       "\n",
       "   metrics.vaccinationsInitiatedRatio  metrics.vaccinationsCompletedRatio  \\\n",
       "0                                 NaN                                 NaN   \n",
       "1                                 NaN                                 NaN   \n",
       "2                                 NaN                                 NaN   \n",
       "3                                 NaN                                 NaN   \n",
       "4                                 NaN                                 NaN   \n",
       "\n",
       "   actuals.newDeaths  actuals.vaccinesAdministered  \n",
       "0                NaN                           NaN  \n",
       "1                NaN                           NaN  \n",
       "2                NaN                           NaN  \n",
       "3                NaN                           NaN  \n",
       "4                NaN                           NaN  \n",
       "\n",
       "[5 rows x 39 columns]"
      ]
     },
     "execution_count": 116,
     "metadata": {},
     "output_type": "execute_result"
    }
   ],
   "source": [
    "all_state_ts_df = pd.read_csv(\"https://api.covidactnow.org/v2/states.timeseries.csv?apiKey=1540d77cf9a0422b88a2d90e989bbd23\")\n",
    "all_state_ts_df.info()\n",
    "all_state_ts_df.head()"
   ]
  },
  {
   "cell_type": "code",
   "execution_count": 131,
   "id": "70c08a2f-af6d-42d2-8961-c8ddbafc24e7",
   "metadata": {},
   "outputs": [
    {
     "name": "stdout",
     "output_type": "stream",
     "text": [
      "<class 'pandas.core.frame.DataFrame'>\n",
      "RangeIndex: 26039 entries, 0 to 26038\n",
      "Data columns (total 39 columns):\n",
      " #   Column                                  Non-Null Count  Dtype         \n",
      "---  ------                                  --------------  -----         \n",
      " 0   date                                    26039 non-null  datetime64[ns]\n",
      " 1   country                                 26039 non-null  object        \n",
      " 2   state                                   26039 non-null  object        \n",
      " 3   county                                  26039 non-null  object        \n",
      " 4   fips                                    26039 non-null  int64         \n",
      " 5   lat                                     26039 non-null  object        \n",
      " 6   long                                    26039 non-null  object        \n",
      " 7   locationId                              26039 non-null  object        \n",
      " 8   actuals.cases                           26039 non-null  float64       \n",
      " 9   actuals.deaths                          26039 non-null  float64       \n",
      " 10  actuals.positiveTests                   26039 non-null  float64       \n",
      " 11  actuals.negativeTests                   26039 non-null  float64       \n",
      " 12  actuals.contactTracers                  26039 non-null  float64       \n",
      " 13  actuals.hospitalBeds.capacity           26039 non-null  float64       \n",
      " 14  actuals.hospitalBeds.currentUsageTotal  26039 non-null  float64       \n",
      " 15  actuals.hospitalBeds.currentUsageCovid  26039 non-null  float64       \n",
      " 16  actuals.hospitalBeds.typicalUsageRate   26039 non-null  float64       \n",
      " 17  actuals.icuBeds.capacity                26039 non-null  float64       \n",
      " 18  actuals.icuBeds.currentUsageTotal       26039 non-null  float64       \n",
      " 19  actuals.icuBeds.currentUsageCovid       26039 non-null  float64       \n",
      " 20  actuals.icuBeds.typicalUsageRate        26039 non-null  float64       \n",
      " 21  actuals.newCases                        26039 non-null  float64       \n",
      " 22  actuals.vaccinesDistributed             26039 non-null  float64       \n",
      " 23  actuals.vaccinationsInitiated           26039 non-null  float64       \n",
      " 24  actuals.vaccinationsCompleted           26039 non-null  float64       \n",
      " 25  metrics.testPositivityRatio             26039 non-null  float64       \n",
      " 26  metrics.testPositivityRatioDetails      26039 non-null  float64       \n",
      " 27  metrics.caseDensity                     26039 non-null  float64       \n",
      " 28  metrics.contactTracerCapacityRatio      26039 non-null  float64       \n",
      " 29  metrics.infectionRate                   26039 non-null  float64       \n",
      " 30  metrics.infectionRateCI90               26039 non-null  float64       \n",
      " 31  metrics.icuHeadroomRatio                26039 non-null  float64       \n",
      " 32  metrics.icuHeadroomDetails              26039 non-null  float64       \n",
      " 33  metrics.icuCapacityRatio                26039 non-null  float64       \n",
      " 34  riskLevels.overall                      26039 non-null  int64         \n",
      " 35  metrics.vaccinationsInitiatedRatio      26039 non-null  float64       \n",
      " 36  metrics.vaccinationsCompletedRatio      26039 non-null  float64       \n",
      " 37  actuals.newDeaths                       26039 non-null  float64       \n",
      " 38  actuals.vaccinesAdministered            26039 non-null  float64       \n",
      "dtypes: datetime64[ns](1), float64(30), int64(2), object(6)\n",
      "memory usage: 7.7+ MB\n"
     ]
    },
    {
     "data": {
      "text/plain": [
       "'date,country,state,county,fips,lat,long,locationId,actuals.cases,actuals.deaths,actuals.positiveTests,actuals.negativeTests,actuals.contactTracers,actuals.hospitalBeds.capacity,actuals.hospitalBeds.currentUsageTotal,actuals.hospitalBeds.currentUsageCovid,actuals.hospitalBeds.typicalUsageRate,actuals.icuBeds.capacity,actuals.icuBeds.currentUsageTotal,actuals.icuBeds.currentUsageCovid,actuals.icuBeds.typicalUsageRate,actuals.newCases,actuals.vaccinesDistributed,actuals.vaccinationsInitiated,actuals.vaccinationsCompleted,metrics.testPositivityRatio,metrics.testPositivityRatioDetails,metrics.caseDensity,metrics.contactTracerCapacityRatio,metrics.infectionRate,metrics.infectionRateCI90,metrics.icuHeadroomRatio,metrics.icuHeadroomDetails,metrics.icuCapacityRatio,riskLevels.overall,metrics.vaccinationsInitiatedRatio,metrics.vaccinationsCompletedRatio,actuals.newDeaths,actuals.vaccinesAdministered'"
      ]
     },
     "execution_count": 131,
     "metadata": {},
     "output_type": "execute_result"
    }
   ],
   "source": [
    "all_state_ts_df_MYSQL =pd.DataFrame(all_state_ts_df)\n",
    "all_state_ts_df_MYSQL['date'] = pd.to_datetime(all_state_ts_df_MYSQL['date'])\n",
    "all_state_ts_df_MYSQL['country'] = all_state_ts_df_MYSQL['country'].replace (np.nan, \"\")\n",
    "all_state_ts_df_MYSQL['county'] = all_state_ts_df_MYSQL['county'].replace (np.nan, \"\")\n",
    "all_state_ts_df_MYSQL['state'] = all_state_ts_df_MYSQL['state'].replace (np.nan, \"\")\n",
    "all_state_ts_df_MYSQL['lat'] = all_state_ts_df_MYSQL['lat'].replace (np.nan, \"\")\n",
    "all_state_ts_df_MYSQL['long'] = all_state_ts_df_MYSQL['long'].replace (np.nan, \"\")\n",
    "all_state_ts_df_MYSQL['actuals.cases'] = all_state_ts_df_MYSQL['actuals.cases'].replace (np.nan, 0)\n",
    "all_state_ts_df_MYSQL['actuals.deaths'] = all_state_ts_df_MYSQL['actuals.deaths'].replace (np.nan, 0)\n",
    "all_state_ts_df_MYSQL['actuals.positiveTests'] = all_state_ts_df_MYSQL['actuals.positiveTests'].replace (np.nan, 0)\n",
    "all_state_ts_df_MYSQL['actuals.negativeTests'] = all_state_ts_df_MYSQL['actuals.negativeTests'].replace (np.nan, 0)\n",
    "all_state_ts_df_MYSQL['actuals.contactTracers'] = all_state_ts_df_MYSQL['actuals.contactTracers'].replace (np.nan, 0)\n",
    "all_state_ts_df_MYSQL['actuals.hospitalBeds.capacity'] = all_state_ts_df_MYSQL['actuals.hospitalBeds.capacity'].replace (np.nan, 0)\n",
    "all_state_ts_df_MYSQL['actuals.hospitalBeds.currentUsageTotal'] = all_state_ts_df_MYSQL['actuals.hospitalBeds.currentUsageTotal'].replace (np.nan, 0)\n",
    "all_state_ts_df_MYSQL['actuals.hospitalBeds.currentUsageCovid'] = all_state_ts_df_MYSQL['actuals.hospitalBeds.currentUsageCovid'].replace (np.nan, 0)\n",
    "all_state_ts_df_MYSQL['actuals.hospitalBeds.typicalUsageRate'] = all_state_ts_df_MYSQL['actuals.hospitalBeds.typicalUsageRate'].replace (np.nan, 0)\n",
    "all_state_ts_df_MYSQL['actuals.icuBeds.capacity'] = all_state_ts_df_MYSQL['actuals.icuBeds.capacity'].replace (np.nan, 0)\n",
    "all_state_ts_df_MYSQL['actuals.icuBeds.currentUsageTotal'] = all_state_ts_df_MYSQL['actuals.icuBeds.currentUsageTotal'].replace (np.nan, 0)\n",
    "all_state_ts_df_MYSQL['actuals.icuBeds.currentUsageCovid'] = all_state_ts_df_MYSQL['actuals.icuBeds.currentUsageCovid'].replace (np.nan, 0)\n",
    "all_state_ts_df_MYSQL['actuals.icuBeds.typicalUsageRate'] = all_state_ts_df_MYSQL['actuals.icuBeds.typicalUsageRate'].replace (np.nan, 0)\n",
    "all_state_ts_df_MYSQL['actuals.newCases'] = all_state_ts_df_MYSQL['actuals.newCases'].replace (np.nan, 0)\n",
    "all_state_ts_df_MYSQL['actuals.vaccinesDistributed'] = all_state_ts_df_MYSQL['actuals.vaccinesDistributed'].replace (np.nan, 0)\n",
    "all_state_ts_df_MYSQL['actuals.vaccinationsInitiated'] = all_state_ts_df_MYSQL['actuals.vaccinationsInitiated'].replace (np.nan, 0)\n",
    "all_state_ts_df_MYSQL['actuals.vaccinationsCompleted'] = all_state_ts_df_MYSQL['actuals.vaccinationsCompleted'].replace (np.nan, 0)\n",
    "all_state_ts_df_MYSQL['metrics.testPositivityRatio'] = all_state_ts_df_MYSQL['metrics.testPositivityRatio'].replace (np.nan, 0)\n",
    "all_state_ts_df_MYSQL['metrics.testPositivityRatioDetails'] = all_state_ts_df_MYSQL['metrics.testPositivityRatioDetails'].replace (np.nan, 0)\n",
    "all_state_ts_df_MYSQL['metrics.caseDensity'] = all_state_ts_df_MYSQL['metrics.caseDensity'].replace (np.nan, 0)\n",
    "all_state_ts_df_MYSQL['metrics.contactTracerCapacityRatio'] = all_state_ts_df_MYSQL['metrics.contactTracerCapacityRatio'].replace (np.nan, 0)\n",
    "all_state_ts_df_MYSQL['metrics.infectionRate'] = all_state_ts_df_MYSQL['metrics.infectionRate'].replace (np.nan, 0)\n",
    "all_state_ts_df_MYSQL['metrics.infectionRateCI90'] = all_state_ts_df_MYSQL['metrics.infectionRateCI90'].replace (np.nan, 0)\n",
    "all_state_ts_df_MYSQL['metrics.icuHeadroomRatio'] = all_state_ts_df_MYSQL['metrics.icuHeadroomRatio'].replace (np.nan, 0)\n",
    "all_state_ts_df_MYSQL['metrics.icuHeadroomDetails'] = all_state_ts_df_MYSQL['metrics.icuHeadroomDetails'].replace (np.nan, 0)\n",
    "all_state_ts_df_MYSQL['metrics.icuCapacityRatio'] = all_state_ts_df_MYSQL['metrics.icuCapacityRatio'].replace (np.nan, 0)\n",
    "all_state_ts_df_MYSQL['riskLevels.overall'] = all_state_ts_df_MYSQL['riskLevels.overall'].replace (np.nan, 0)\n",
    "all_state_ts_df_MYSQL['metrics.vaccinationsInitiatedRatio'] = all_state_ts_df_MYSQL['metrics.vaccinationsInitiatedRatio'].replace (np.nan, 0)\n",
    "all_state_ts_df_MYSQL['metrics.vaccinationsCompletedRatio'] = all_state_ts_df_MYSQL['metrics.vaccinationsCompletedRatio'].replace (np.nan, 0)\n",
    "all_state_ts_df_MYSQL['actuals.newDeaths'] = all_state_ts_df_MYSQL['actuals.newDeaths'].replace (np.nan, 0)\n",
    "all_state_ts_df_MYSQL['actuals.vaccinesAdministered'] = all_state_ts_df_MYSQL['actuals.vaccinesAdministered'].replace (np.nan, 0)\n",
    "all_state_ts_df_MYSQL.info()\n",
    "all_state_ts_df_MYSQL.head()\n",
    "cols=\",\".join([str(i) for i in all_state_ts_df_MYSQL.columns.tolist()])\n",
    "cols"
   ]
  },
  {
   "cell_type": "code",
   "execution_count": 132,
   "id": "6c121ee8-7948-4cdb-bd63-c6c49d4314a6",
   "metadata": {},
   "outputs": [
    {
     "data": {
      "text/html": [
       "<div>\n",
       "<style scoped>\n",
       "    .dataframe tbody tr th:only-of-type {\n",
       "        vertical-align: middle;\n",
       "    }\n",
       "\n",
       "    .dataframe tbody tr th {\n",
       "        vertical-align: top;\n",
       "    }\n",
       "\n",
       "    .dataframe thead th {\n",
       "        text-align: right;\n",
       "    }\n",
       "</style>\n",
       "<table border=\"1\" class=\"dataframe\">\n",
       "  <thead>\n",
       "    <tr style=\"text-align: right;\">\n",
       "      <th></th>\n",
       "      <th>date</th>\n",
       "      <th>country</th>\n",
       "      <th>state</th>\n",
       "      <th>county</th>\n",
       "      <th>fips</th>\n",
       "      <th>lat</th>\n",
       "      <th>long</th>\n",
       "      <th>locationId</th>\n",
       "      <th>actuals.cases</th>\n",
       "      <th>actuals.deaths</th>\n",
       "      <th>...</th>\n",
       "      <th>metrics.infectionRate</th>\n",
       "      <th>metrics.infectionRateCI90</th>\n",
       "      <th>metrics.icuHeadroomRatio</th>\n",
       "      <th>metrics.icuHeadroomDetails</th>\n",
       "      <th>metrics.icuCapacityRatio</th>\n",
       "      <th>riskLevels.overall</th>\n",
       "      <th>metrics.vaccinationsInitiatedRatio</th>\n",
       "      <th>metrics.vaccinationsCompletedRatio</th>\n",
       "      <th>actuals.newDeaths</th>\n",
       "      <th>actuals.vaccinesAdministered</th>\n",
       "    </tr>\n",
       "  </thead>\n",
       "  <tbody>\n",
       "    <tr>\n",
       "      <th>0</th>\n",
       "      <td>2020-03-01</td>\n",
       "      <td>US</td>\n",
       "      <td>AK</td>\n",
       "      <td></td>\n",
       "      <td>2</td>\n",
       "      <td></td>\n",
       "      <td></td>\n",
       "      <td>iso1:us#iso2:us-ak</td>\n",
       "      <td>0.0</td>\n",
       "      <td>0.0</td>\n",
       "      <td>...</td>\n",
       "      <td>0.00</td>\n",
       "      <td>0.00</td>\n",
       "      <td>0.0</td>\n",
       "      <td>0.0</td>\n",
       "      <td>0.0</td>\n",
       "      <td>0</td>\n",
       "      <td>0.0</td>\n",
       "      <td>0.0</td>\n",
       "      <td>0.0</td>\n",
       "      <td>0.0</td>\n",
       "    </tr>\n",
       "    <tr>\n",
       "      <th>1</th>\n",
       "      <td>2020-03-02</td>\n",
       "      <td>US</td>\n",
       "      <td>AK</td>\n",
       "      <td></td>\n",
       "      <td>2</td>\n",
       "      <td></td>\n",
       "      <td></td>\n",
       "      <td>iso1:us#iso2:us-ak</td>\n",
       "      <td>0.0</td>\n",
       "      <td>0.0</td>\n",
       "      <td>...</td>\n",
       "      <td>0.00</td>\n",
       "      <td>0.00</td>\n",
       "      <td>0.0</td>\n",
       "      <td>0.0</td>\n",
       "      <td>0.0</td>\n",
       "      <td>0</td>\n",
       "      <td>0.0</td>\n",
       "      <td>0.0</td>\n",
       "      <td>0.0</td>\n",
       "      <td>0.0</td>\n",
       "    </tr>\n",
       "    <tr>\n",
       "      <th>2</th>\n",
       "      <td>2020-03-03</td>\n",
       "      <td>US</td>\n",
       "      <td>AK</td>\n",
       "      <td></td>\n",
       "      <td>2</td>\n",
       "      <td></td>\n",
       "      <td></td>\n",
       "      <td>iso1:us#iso2:us-ak</td>\n",
       "      <td>0.0</td>\n",
       "      <td>0.0</td>\n",
       "      <td>...</td>\n",
       "      <td>0.00</td>\n",
       "      <td>0.00</td>\n",
       "      <td>0.0</td>\n",
       "      <td>0.0</td>\n",
       "      <td>0.0</td>\n",
       "      <td>0</td>\n",
       "      <td>0.0</td>\n",
       "      <td>0.0</td>\n",
       "      <td>0.0</td>\n",
       "      <td>0.0</td>\n",
       "    </tr>\n",
       "    <tr>\n",
       "      <th>3</th>\n",
       "      <td>2020-03-04</td>\n",
       "      <td>US</td>\n",
       "      <td>AK</td>\n",
       "      <td></td>\n",
       "      <td>2</td>\n",
       "      <td></td>\n",
       "      <td></td>\n",
       "      <td>iso1:us#iso2:us-ak</td>\n",
       "      <td>0.0</td>\n",
       "      <td>0.0</td>\n",
       "      <td>...</td>\n",
       "      <td>0.00</td>\n",
       "      <td>0.00</td>\n",
       "      <td>0.0</td>\n",
       "      <td>0.0</td>\n",
       "      <td>0.0</td>\n",
       "      <td>0</td>\n",
       "      <td>0.0</td>\n",
       "      <td>0.0</td>\n",
       "      <td>0.0</td>\n",
       "      <td>0.0</td>\n",
       "    </tr>\n",
       "    <tr>\n",
       "      <th>4</th>\n",
       "      <td>2020-03-05</td>\n",
       "      <td>US</td>\n",
       "      <td>AK</td>\n",
       "      <td></td>\n",
       "      <td>2</td>\n",
       "      <td></td>\n",
       "      <td></td>\n",
       "      <td>iso1:us#iso2:us-ak</td>\n",
       "      <td>0.0</td>\n",
       "      <td>0.0</td>\n",
       "      <td>...</td>\n",
       "      <td>0.00</td>\n",
       "      <td>0.00</td>\n",
       "      <td>0.0</td>\n",
       "      <td>0.0</td>\n",
       "      <td>0.0</td>\n",
       "      <td>0</td>\n",
       "      <td>0.0</td>\n",
       "      <td>0.0</td>\n",
       "      <td>0.0</td>\n",
       "      <td>0.0</td>\n",
       "    </tr>\n",
       "    <tr>\n",
       "      <th>...</th>\n",
       "      <td>...</td>\n",
       "      <td>...</td>\n",
       "      <td>...</td>\n",
       "      <td>...</td>\n",
       "      <td>...</td>\n",
       "      <td>...</td>\n",
       "      <td>...</td>\n",
       "      <td>...</td>\n",
       "      <td>...</td>\n",
       "      <td>...</td>\n",
       "      <td>...</td>\n",
       "      <td>...</td>\n",
       "      <td>...</td>\n",
       "      <td>...</td>\n",
       "      <td>...</td>\n",
       "      <td>...</td>\n",
       "      <td>...</td>\n",
       "      <td>...</td>\n",
       "      <td>...</td>\n",
       "      <td>...</td>\n",
       "      <td>...</td>\n",
       "    </tr>\n",
       "    <tr>\n",
       "      <th>95</th>\n",
       "      <td>2020-06-04</td>\n",
       "      <td>US</td>\n",
       "      <td>AK</td>\n",
       "      <td></td>\n",
       "      <td>2</td>\n",
       "      <td></td>\n",
       "      <td></td>\n",
       "      <td>iso1:us#iso2:us-ak</td>\n",
       "      <td>542.0</td>\n",
       "      <td>8.0</td>\n",
       "      <td>...</td>\n",
       "      <td>1.28</td>\n",
       "      <td>0.39</td>\n",
       "      <td>0.0</td>\n",
       "      <td>0.0</td>\n",
       "      <td>0.0</td>\n",
       "      <td>2</td>\n",
       "      <td>0.0</td>\n",
       "      <td>0.0</td>\n",
       "      <td>0.0</td>\n",
       "      <td>0.0</td>\n",
       "    </tr>\n",
       "    <tr>\n",
       "      <th>96</th>\n",
       "      <td>2020-06-05</td>\n",
       "      <td>US</td>\n",
       "      <td>AK</td>\n",
       "      <td></td>\n",
       "      <td>2</td>\n",
       "      <td></td>\n",
       "      <td></td>\n",
       "      <td>iso1:us#iso2:us-ak</td>\n",
       "      <td>565.0</td>\n",
       "      <td>8.0</td>\n",
       "      <td>...</td>\n",
       "      <td>1.25</td>\n",
       "      <td>0.37</td>\n",
       "      <td>0.0</td>\n",
       "      <td>0.0</td>\n",
       "      <td>0.0</td>\n",
       "      <td>2</td>\n",
       "      <td>0.0</td>\n",
       "      <td>0.0</td>\n",
       "      <td>0.0</td>\n",
       "      <td>0.0</td>\n",
       "    </tr>\n",
       "    <tr>\n",
       "      <th>97</th>\n",
       "      <td>2020-06-06</td>\n",
       "      <td>US</td>\n",
       "      <td>AK</td>\n",
       "      <td></td>\n",
       "      <td>2</td>\n",
       "      <td></td>\n",
       "      <td></td>\n",
       "      <td>iso1:us#iso2:us-ak</td>\n",
       "      <td>579.0</td>\n",
       "      <td>8.0</td>\n",
       "      <td>...</td>\n",
       "      <td>1.22</td>\n",
       "      <td>0.35</td>\n",
       "      <td>0.0</td>\n",
       "      <td>0.0</td>\n",
       "      <td>0.0</td>\n",
       "      <td>2</td>\n",
       "      <td>0.0</td>\n",
       "      <td>0.0</td>\n",
       "      <td>0.0</td>\n",
       "      <td>0.0</td>\n",
       "    </tr>\n",
       "    <tr>\n",
       "      <th>98</th>\n",
       "      <td>2020-06-07</td>\n",
       "      <td>US</td>\n",
       "      <td>AK</td>\n",
       "      <td></td>\n",
       "      <td>2</td>\n",
       "      <td></td>\n",
       "      <td></td>\n",
       "      <td>iso1:us#iso2:us-ak</td>\n",
       "      <td>588.0</td>\n",
       "      <td>8.0</td>\n",
       "      <td>...</td>\n",
       "      <td>1.19</td>\n",
       "      <td>0.34</td>\n",
       "      <td>0.0</td>\n",
       "      <td>0.0</td>\n",
       "      <td>0.0</td>\n",
       "      <td>2</td>\n",
       "      <td>0.0</td>\n",
       "      <td>0.0</td>\n",
       "      <td>0.0</td>\n",
       "      <td>0.0</td>\n",
       "    </tr>\n",
       "    <tr>\n",
       "      <th>99</th>\n",
       "      <td>2020-06-08</td>\n",
       "      <td>US</td>\n",
       "      <td>AK</td>\n",
       "      <td></td>\n",
       "      <td>2</td>\n",
       "      <td></td>\n",
       "      <td></td>\n",
       "      <td>iso1:us#iso2:us-ak</td>\n",
       "      <td>607.0</td>\n",
       "      <td>8.0</td>\n",
       "      <td>...</td>\n",
       "      <td>1.16</td>\n",
       "      <td>0.34</td>\n",
       "      <td>0.0</td>\n",
       "      <td>0.0</td>\n",
       "      <td>0.0</td>\n",
       "      <td>2</td>\n",
       "      <td>0.0</td>\n",
       "      <td>0.0</td>\n",
       "      <td>0.0</td>\n",
       "      <td>0.0</td>\n",
       "    </tr>\n",
       "  </tbody>\n",
       "</table>\n",
       "<p>100 rows × 39 columns</p>\n",
       "</div>"
      ],
      "text/plain": [
       "         date country state county  fips lat long          locationId  \\\n",
       "0  2020-03-01      US    AK            2           iso1:us#iso2:us-ak   \n",
       "1  2020-03-02      US    AK            2           iso1:us#iso2:us-ak   \n",
       "2  2020-03-03      US    AK            2           iso1:us#iso2:us-ak   \n",
       "3  2020-03-04      US    AK            2           iso1:us#iso2:us-ak   \n",
       "4  2020-03-05      US    AK            2           iso1:us#iso2:us-ak   \n",
       "..        ...     ...   ...    ...   ...  ..  ...                 ...   \n",
       "95 2020-06-04      US    AK            2           iso1:us#iso2:us-ak   \n",
       "96 2020-06-05      US    AK            2           iso1:us#iso2:us-ak   \n",
       "97 2020-06-06      US    AK            2           iso1:us#iso2:us-ak   \n",
       "98 2020-06-07      US    AK            2           iso1:us#iso2:us-ak   \n",
       "99 2020-06-08      US    AK            2           iso1:us#iso2:us-ak   \n",
       "\n",
       "    actuals.cases  actuals.deaths  ...  metrics.infectionRate  \\\n",
       "0             0.0             0.0  ...                   0.00   \n",
       "1             0.0             0.0  ...                   0.00   \n",
       "2             0.0             0.0  ...                   0.00   \n",
       "3             0.0             0.0  ...                   0.00   \n",
       "4             0.0             0.0  ...                   0.00   \n",
       "..            ...             ...  ...                    ...   \n",
       "95          542.0             8.0  ...                   1.28   \n",
       "96          565.0             8.0  ...                   1.25   \n",
       "97          579.0             8.0  ...                   1.22   \n",
       "98          588.0             8.0  ...                   1.19   \n",
       "99          607.0             8.0  ...                   1.16   \n",
       "\n",
       "    metrics.infectionRateCI90  metrics.icuHeadroomRatio  \\\n",
       "0                        0.00                       0.0   \n",
       "1                        0.00                       0.0   \n",
       "2                        0.00                       0.0   \n",
       "3                        0.00                       0.0   \n",
       "4                        0.00                       0.0   \n",
       "..                        ...                       ...   \n",
       "95                       0.39                       0.0   \n",
       "96                       0.37                       0.0   \n",
       "97                       0.35                       0.0   \n",
       "98                       0.34                       0.0   \n",
       "99                       0.34                       0.0   \n",
       "\n",
       "    metrics.icuHeadroomDetails  metrics.icuCapacityRatio  riskLevels.overall  \\\n",
       "0                          0.0                       0.0                   0   \n",
       "1                          0.0                       0.0                   0   \n",
       "2                          0.0                       0.0                   0   \n",
       "3                          0.0                       0.0                   0   \n",
       "4                          0.0                       0.0                   0   \n",
       "..                         ...                       ...                 ...   \n",
       "95                         0.0                       0.0                   2   \n",
       "96                         0.0                       0.0                   2   \n",
       "97                         0.0                       0.0                   2   \n",
       "98                         0.0                       0.0                   2   \n",
       "99                         0.0                       0.0                   2   \n",
       "\n",
       "    metrics.vaccinationsInitiatedRatio  metrics.vaccinationsCompletedRatio  \\\n",
       "0                                  0.0                                 0.0   \n",
       "1                                  0.0                                 0.0   \n",
       "2                                  0.0                                 0.0   \n",
       "3                                  0.0                                 0.0   \n",
       "4                                  0.0                                 0.0   \n",
       "..                                 ...                                 ...   \n",
       "95                                 0.0                                 0.0   \n",
       "96                                 0.0                                 0.0   \n",
       "97                                 0.0                                 0.0   \n",
       "98                                 0.0                                 0.0   \n",
       "99                                 0.0                                 0.0   \n",
       "\n",
       "    actuals.newDeaths  actuals.vaccinesAdministered  \n",
       "0                 0.0                           0.0  \n",
       "1                 0.0                           0.0  \n",
       "2                 0.0                           0.0  \n",
       "3                 0.0                           0.0  \n",
       "4                 0.0                           0.0  \n",
       "..                ...                           ...  \n",
       "95                0.0                           0.0  \n",
       "96                0.0                           0.0  \n",
       "97                0.0                           0.0  \n",
       "98                0.0                           0.0  \n",
       "99                0.0                           0.0  \n",
       "\n",
       "[100 rows x 39 columns]"
      ]
     },
     "execution_count": 132,
     "metadata": {},
     "output_type": "execute_result"
    }
   ],
   "source": [
    "all_state_ts_df_MYSQL.head(100)"
   ]
  },
  {
   "cell_type": "code",
   "execution_count": 133,
   "id": "2e631a11-b947-4536-8c94-43ca21b528b1",
   "metadata": {},
   "outputs": [],
   "source": [
    "import mysql.connector as mysql\n",
    "conn = mysql.connect(\n",
    "         user='root',\n",
    "         password='jiyajai@123',\n",
    "         host='127.0.0.1',\n",
    "         port = '3306',\n",
    "         database='covid')\n",
    "mycursor = conn.cursor()"
   ]
  },
  {
   "cell_type": "code",
   "execution_count": 134,
   "id": "0b9e8958-7668-43f0-8358-c36ff6cb7fa4",
   "metadata": {},
   "outputs": [
    {
     "name": "stdout",
     "output_type": "stream",
     "text": [
      "[]\n"
     ]
    }
   ],
   "source": [
    "query = \"truncate table covid.covid_timeseries_2\"\n",
    "mycursor.execute(query)"
   ]
  },
  {
   "cell_type": "code",
   "execution_count": 138,
   "id": "16f7200b-cf87-4c6c-86e2-8f03852374b7",
   "metadata": {},
   "outputs": [],
   "source": [
    "for i, row in all_state_ts_df_MYSQL.iterrows():\n",
    "    sql = \"INSERT INTO covid.covid_timeseries_2(date_dt,country,state,county,fips,latitude,longitude,locationId,actuals_cases,actuals_deaths,actuals_positiveTests,actuals_negativeTests,actuals_contactTracers,actuals_hospitalBeds_capacity,actuals_hospitalBeds_currentUsageTotal,actuals_hospitalBeds_currentUsageCovid,actuals_hospitalBeds_typicalUsageRate,actuals_icuBeds_capacity,actuals_icuBeds_currentUsageTotal,actuals_icuBeds_currentUsageCovid,actuals_icuBeds_typicalUsageRate,actuals_newCases,actuals_vaccinesDistributed,actuals_vaccinationsInitiated,actuals_vaccinationsCompleted,metrics_testPositivityRatio,metrics_testPositivityRatioDetails,metrics_caseDensity,metrics_contactTracerCapacityRatio,metrics_infectionRate,metrics_infectionRateCI90,metrics_icuHeadroomRatio,metrics_icuHeadroomDetails,metrics_icuCapacityRatio,riskLevels_overall,metrics_vaccinationsInitiatedRatio,metrics_vaccinationsCompletedRatio,actuals_newDeaths,actuals_vaccinesAdministered) VALUES (\"+\"%s,\" *(len(row)-1)+\"%s)\"\n",
    "    mycursor.execute(sql,tuple(row))\n",
    "    conn.commit()\n",
    " "
   ]
  },
  {
   "cell_type": "code",
   "execution_count": null,
   "id": "3da48d74-d15d-4108-9337-8bef2edd545c",
   "metadata": {},
   "outputs": [],
   "source": [
    "#all_state_ts_df_MYSQL.to_sql(con=mycursor,name='covid_timeseries',if_exists='append',index=False)"
   ]
  },
  {
   "cell_type": "code",
   "execution_count": null,
   "id": "54311fab-095c-4311-bcc8-d02314a426d7",
   "metadata": {},
   "outputs": [],
   "source": [
    "all_state_ts_df_summary=pd.DataFrame(all_state_ts_df[['date','state','fips','actuals.cases','']])"
   ]
  },
  {
   "cell_type": "code",
   "execution_count": null,
   "id": "626fbd2e-89e9-4bc5-b59b-fe87dae602b7",
   "metadata": {},
   "outputs": [],
   "source": [
    "all_state_ts_df_summary.info()"
   ]
  },
  {
   "cell_type": "code",
   "execution_count": null,
   "id": "6031f5da-c4d2-4bd2-a241-5ac28a023703",
   "metadata": {},
   "outputs": [],
   "source": [
    "all_state_ts_df_summary['month-year']=all_state_ts_df_summary['date'].str.slice(0,7)"
   ]
  },
  {
   "cell_type": "code",
   "execution_count": null,
   "id": "2f043659-2ee8-43f8-8922-fdf7646325ee",
   "metadata": {},
   "outputs": [],
   "source": [
    "#all_state_ts_df_summary=all_state_ts_df_summary[all_state_ts_df_summary.state in [('AK','AL')]]"
   ]
  },
  {
   "cell_type": "code",
   "execution_count": null,
   "id": "0cb4515a-7972-4f60-b4a8-e55473f5e3b7",
   "metadata": {},
   "outputs": [],
   "source": [
    "all_state_ts_df_summary_cases=pd.DataFrame(all_state_ts_df_summary.groupby(['state','month-year']).sum().reset_index()[['month-year','state','actuals.cases']])"
   ]
  },
  {
   "cell_type": "code",
   "execution_count": null,
   "id": "27d16805-b406-45b5-9408-13e3b9b25646",
   "metadata": {},
   "outputs": [],
   "source": [
    "all_state_ts_df_summary_cases"
   ]
  },
  {
   "cell_type": "code",
   "execution_count": null,
   "id": "be002ac1-7e00-41cc-a1c7-580b8d376ae4",
   "metadata": {},
   "outputs": [],
   "source": [
    "import plotnine"
   ]
  },
  {
   "cell_type": "code",
   "execution_count": null,
   "id": "81e39250-19f0-4bc5-8e8a-953e718d8f00",
   "metadata": {},
   "outputs": [],
   "source": [
    "from plotnine import ggplot, aes"
   ]
  },
  {
   "cell_type": "code",
   "execution_count": null,
   "id": "d3eefdd6-9a7f-475b-9b56-0cc11eedb27e",
   "metadata": {},
   "outputs": [],
   "source": [
    "barplot=ggplot(data=all_state_ts_df_summary_cases, mapping=aes(x='month-year',y='actuals.cases',fill='state'))"
   ]
  },
  {
   "cell_type": "code",
   "execution_count": null,
   "id": "51191617-7e65-4f7a-b478-8a21a35907fc",
   "metadata": {},
   "outputs": [],
   "source": [
    "barplot+plotnine.geom_col()+plotnine.facets.facet_wrap('state')+plotnine.theme(axis_text_x =plotnine.element_text(rotation=90))"
   ]
  },
  {
   "cell_type": "code",
   "execution_count": null,
   "id": "d2229f5e-fee1-4278-a725-58e108cab1b5",
   "metadata": {},
   "outputs": [],
   "source": [
    "all_state_ts_df_summary_cases_AZ=all_state_ts_df_summary_cases[all_state_ts_df_summary_cases.state == ('AZ')]\n",
    "all_state_ts_df_summary_cases_AZ=pd.DataFrame(all_state_ts_df_summary_cases_AZ.groupby(['state','month-year']).sum().reset_index()[['month-year','state','actuals.cases']])\n",
    "barplot=ggplot(data=all_state_ts_df_summary_cases_AZ, mapping=aes(x='month-year',y='actuals.cases',fill='state'))\n",
    "barplot+plotnine.geom_col()+plotnine.facets.facet_wrap('state')+plotnine.theme(axis_text_x =plotnine.element_text(rotation=90))+plotnine.geom_text(\n",
    "     aes(label='actuals.cases'),stat='sum',nudge_y=0.3,size=6,va='bottom')"
   ]
  },
  {
   "cell_type": "code",
   "execution_count": null,
   "id": "a5317500-9295-4df1-8821-90f92025ce66",
   "metadata": {},
   "outputs": [],
   "source": [
    "all_state_ts_df_summary_cases_CA=all_state_ts_df_summary_cases[all_state_ts_df_summary_cases.state == ('CA')]\n",
    "all_state_ts_df_summary_cases_CA=pd.DataFrame(all_state_ts_df_summary_cases_CA.groupby(['state','month-year']).sum().reset_index()[['month-year','state','actuals.cases']])\n",
    "barplot=ggplot(data=all_state_ts_df_summary_cases_CA, mapping=aes(x='month-year',y='actuals.cases',fill='state'))\n",
    "barplot+plotnine.geom_col()+plotnine.facets.facet_wrap('state')+plotnine.theme(axis_text_x =plotnine.element_text(rotation=90))+plotnine.geom_text(\n",
    "     aes(label='actuals.cases'),stat='sum',nudge_y=0.3,size=6,va='bottom')"
   ]
  },
  {
   "cell_type": "code",
   "execution_count": null,
   "id": "c8a27bdd-6c4e-4d65-b10b-bb967c5a349b",
   "metadata": {},
   "outputs": [],
   "source": [
    "all_state_ts_df_summary_cases_FL=all_state_ts_df_summary_cases[all_state_ts_df_summary_cases.state == ('FL')]\n",
    "all_state_ts_df_summary_cases_FL=pd.DataFrame(all_state_ts_df_summary_cases_FL.groupby(['state','month-year']).sum().reset_index()[['month-year','state','actuals.cases']])\n",
    "barplot=ggplot(data=all_state_ts_df_summary_cases_FL, mapping=aes(x='month-year',y='actuals.cases',fill='state'))\n",
    "barplot+plotnine.geom_col()+plotnine.facets.facet_wrap('state')+plotnine.theme(axis_text_x =plotnine.element_text(rotation=90))+plotnine.geom_text(\n",
    "     aes(label='actuals.cases'),stat='sum',nudge_y=0.3,size=6,va='bottom')"
   ]
  },
  {
   "cell_type": "code",
   "execution_count": null,
   "id": "98fd57f3-4a4e-457c-8438-0d7664668326",
   "metadata": {},
   "outputs": [],
   "source": [
    "all_state_ts_df_summary_cases_GA=all_state_ts_df_summary_cases[all_state_ts_df_summary_cases.state == ('GA')]\n",
    "all_state_ts_df_summary_cases_GA=pd.DataFrame(all_state_ts_df_summary_cases_GA.groupby(['state','month-year']).sum().reset_index()[['month-year','state','actuals.cases']])\n",
    "barplot=ggplot(data=all_state_ts_df_summary_cases_GA, mapping=aes(x='month-year',y='actuals.cases',fill='state'))\n",
    "barplot+plotnine.geom_col()+plotnine.facets.facet_wrap('state')+plotnine.theme(axis_text_x =plotnine.element_text(rotation=90))+plotnine.geom_text(\n",
    "     aes(label='actuals.cases'),stat='sum',nudge_y=0.3,size=6,va='bottom')"
   ]
  },
  {
   "cell_type": "code",
   "execution_count": null,
   "id": "22abefac-3b2c-456e-b7cc-9fe5f2c1094a",
   "metadata": {},
   "outputs": [],
   "source": [
    "all_state_ts_df_summary_cases_IL=all_state_ts_df_summary_cases[all_state_ts_df_summary_cases.state == ('IL')]\n",
    "all_state_ts_df_summary_cases_IL=pd.DataFrame(all_state_ts_df_summary_cases_IL.groupby(['state','month-year']).sum().reset_index()[['month-year','state','actuals.cases']])\n",
    "barplot=ggplot(data=all_state_ts_df_summary_cases_IL, mapping=aes(x='month-year',y='actuals.cases',fill='state'))\n",
    "barplot+plotnine.geom_col()+plotnine.facets.facet_wrap('state')+plotnine.theme(axis_text_x =plotnine.element_text(rotation=90))+plotnine.geom_text(\n",
    "     aes(label='actuals.cases'),stat='sum',nudge_y=0.3,size=6,va='bottom')"
   ]
  },
  {
   "cell_type": "code",
   "execution_count": null,
   "id": "00a03a2d-c931-4c1d-b478-db5cab6bf601",
   "metadata": {},
   "outputs": [],
   "source": [
    "all_state_ts_df_summary_cases_MI=all_state_ts_df_summary_cases[all_state_ts_df_summary_cases.state == ('MI')]\n",
    "all_state_ts_df_summary_cases_MI=pd.DataFrame(all_state_ts_df_summary_cases_MI.groupby(['state','month-year']).sum().reset_index()[['month-year','state','actuals.cases']])\n",
    "barplot=ggplot(data=all_state_ts_df_summary_cases_MI, mapping=aes(x='month-year',y='actuals.cases',fill='state'))\n",
    "barplot+plotnine.geom_col()+plotnine.facets.facet_wrap('state')+plotnine.theme(axis_text_x =plotnine.element_text(rotation=90))+plotnine.geom_text(\n",
    "     aes(label='actuals.cases'),stat='sum',nudge_y=0.3,size=6,va='bottom')"
   ]
  },
  {
   "cell_type": "code",
   "execution_count": null,
   "id": "1ce5665c-6421-4ee3-9062-b3fb8bc41fd0",
   "metadata": {},
   "outputs": [],
   "source": [
    "all_state_ts_df_summary_cases_MO=all_state_ts_df_summary_cases[all_state_ts_df_summary_cases.state == ('MO')]\n",
    "all_state_ts_df_summary_cases_MO=pd.DataFrame(all_state_ts_df_summary_cases_MO.groupby(['state','month-year']).sum().reset_index()[['month-year','state','actuals.cases']])\n",
    "barplot=ggplot(data=all_state_ts_df_summary_cases_MO, mapping=aes(x='month-year',y='actuals.cases',fill='state'))\n",
    "barplot+plotnine.geom_col()+plotnine.facets.facet_wrap('state')+plotnine.theme(axis_text_x =plotnine.element_text(rotation=90))+plotnine.geom_text(\n",
    "     aes(label='actuals.cases'),stat='sum',nudge_y=0.3,size=6,va='bottom')"
   ]
  },
  {
   "cell_type": "code",
   "execution_count": null,
   "id": "0e2551ce-9ac6-4802-adb8-6aaca2939148",
   "metadata": {},
   "outputs": [],
   "source": [
    "all_state_ts_df_summary_cases_NC=all_state_ts_df_summary_cases[all_state_ts_df_summary_cases.state == ('NC')]\n",
    "all_state_ts_df_summary_cases_NC=pd.DataFrame(all_state_ts_df_summary_cases_NC.groupby(['state','month-year']).sum().reset_index()[['month-year','state','actuals.cases']])\n",
    "barplot=ggplot(data=all_state_ts_df_summary_cases_NC, mapping=aes(x='month-year',y='actuals.cases',fill='state'))\n",
    "barplot+plotnine.geom_col()+plotnine.facets.facet_wrap('state')+plotnine.theme(axis_text_x =plotnine.element_text(rotation=90))+plotnine.geom_text(\n",
    "     aes(label='actuals.cases'),stat='sum',nudge_y=0.3,size=6,va='bottom')"
   ]
  },
  {
   "cell_type": "code",
   "execution_count": null,
   "id": "e2203c77-b897-425c-bc1e-2f3a700457b5",
   "metadata": {},
   "outputs": [],
   "source": [
    "all_state_ts_df_summary_cases_NJ=all_state_ts_df_summary_cases[all_state_ts_df_summary_cases.state == ('NJ')]\n",
    "all_state_ts_df_summary_cases_NJ=pd.DataFrame(all_state_ts_df_summary_cases_NJ.groupby(['state','month-year']).sum().reset_index()[['month-year','state','actuals.cases']])\n",
    "barplot=ggplot(data=all_state_ts_df_summary_cases_NJ, mapping=aes(x='month-year',y='actuals.cases',fill='state'))\n",
    "barplot+plotnine.geom_col()+plotnine.facets.facet_wrap('state')+plotnine.theme(axis_text_x =plotnine.element_text(rotation=90))+plotnine.geom_text(\n",
    "     aes(label='actuals.cases'),stat='sum',nudge_y=0.3,size=6,va='bottom')"
   ]
  },
  {
   "cell_type": "code",
   "execution_count": null,
   "id": "ac4bfafc-e5a2-483b-b1fb-62ad335250ff",
   "metadata": {},
   "outputs": [],
   "source": [
    "all_state_ts_df_summary_cases_OH=all_state_ts_df_summary_cases[all_state_ts_df_summary_cases.state == ('OH')]\n",
    "all_state_ts_df_summary_cases_OH=pd.DataFrame(all_state_ts_df_summary_cases_OH.groupby(['state','month-year']).sum().reset_index()[['month-year','state','actuals.cases']])\n",
    "barplot=ggplot(data=all_state_ts_df_summary_cases_OH, mapping=aes(x='month-year',y='actuals.cases',fill='state'))\n",
    "barplot+plotnine.geom_col()+plotnine.facets.facet_wrap('state')+plotnine.theme(axis_text_x =plotnine.element_text(rotation=90))+plotnine.geom_text(\n",
    "     aes(label='actuals.cases'),stat='sum',nudge_y=0.3,size=6,va='bottom')"
   ]
  },
  {
   "cell_type": "code",
   "execution_count": null,
   "id": "8d41e3f0-3b42-40f4-8c6b-347a7f07d6fb",
   "metadata": {},
   "outputs": [],
   "source": [
    "all_state_ts_df_summary_cases_NY=all_state_ts_df_summary_cases[all_state_ts_df_summary_cases.state == ('NY')]\n",
    "all_state_ts_df_summary_cases_NY=pd.DataFrame(all_state_ts_df_summary_cases_NY.groupby(['state','month-year']).sum().reset_index()[['month-year','state','actuals.cases']])\n",
    "barplot=ggplot(data=all_state_ts_df_summary_cases_NY, mapping=aes(x='month-year',y='actuals.cases',fill='state'))\n",
    "barplot+plotnine.geom_col()+plotnine.facets.facet_wrap('state')+plotnine.theme(axis_text_x =plotnine.element_text(rotation=90))+plotnine.geom_text(\n",
    "     aes(label='actuals.cases'),stat='sum',nudge_y=0.3,size=6,va='bottom')"
   ]
  },
  {
   "cell_type": "code",
   "execution_count": null,
   "id": "7a2cfe56-72a6-441d-90d4-3fc96ee3febe",
   "metadata": {},
   "outputs": [],
   "source": [
    "all_state_ts_df_summary_cases_TX=all_state_ts_df_summary_cases[all_state_ts_df_summary_cases.state == ('TX')]\n",
    "all_state_ts_df_summary_cases_TX=pd.DataFrame(all_state_ts_df_summary_cases_TX.groupby(['state','month-year']).sum().reset_index()[['month-year','state','actuals.cases']])\n",
    "barplot=ggplot(data=all_state_ts_df_summary_cases_TX, mapping=aes(x='month-year',y='actuals.cases',fill='state'))\n",
    "barplot+plotnine.geom_col()+plotnine.facets.facet_wrap('state')+plotnine.theme(axis_text_x =plotnine.element_text(rotation=90))+plotnine.geom_text(\n",
    "     aes(label='actuals.cases'),stat='sum',nudge_y=0.3,size=6,va='bottom')"
   ]
  },
  {
   "cell_type": "code",
   "execution_count": null,
   "id": "661a5733-d70a-43e0-b1cb-b93ca02ae40c",
   "metadata": {},
   "outputs": [],
   "source": [
    "all_state_ts_df_summary_cases_TN=all_state_ts_df_summary_cases[all_state_ts_df_summary_cases.state == ('TN')]\n",
    "all_state_ts_df_summary_cases_TN=pd.DataFrame(all_state_ts_df_summary_cases_TN.groupby(['state','month-year']).sum().reset_index()[['month-year','state','actuals.cases']])\n",
    "barplot=ggplot(data=all_state_ts_df_summary_cases_TN, mapping=aes(x='month-year',y='actuals.cases',fill='state'))\n",
    "barplot+plotnine.geom_col()+plotnine.facets.facet_wrap('state')+plotnine.theme(axis_text_x =plotnine.element_text(rotation=90))+plotnine.geom_text(\n",
    "     aes(label='actuals.cases'),stat='sum',nudge_y=0.3,size=6,va='bottom')"
   ]
  },
  {
   "cell_type": "code",
   "execution_count": null,
   "id": "e90afe14-71d7-4128-b617-a4d9137079e6",
   "metadata": {},
   "outputs": [],
   "source": [
    "all_state_ts_df_summary_deaths=pd.DataFrame(all_state_ts_df_summary.groupby(['state','month-year']).sum().reset_index()[['month-year','state','actuals.deaths']])\n",
    "all_state_ts_df_summary_deaths"
   ]
  },
  {
   "cell_type": "code",
   "execution_count": null,
   "id": "5c72813d-7477-4df8-bf58-f31a222cc68e",
   "metadata": {},
   "outputs": [],
   "source": [
    "barplot=ggplot(data=all_state_ts_df_summary_deaths, mapping=aes(x='month-year',y='actuals.deaths',fill='state'))\n",
    "barplot+plotnine.geom_col()+plotnine.facets.facet_wrap('state')+plotnine.theme(axis_text_x =plotnine.element_text(rotation=90))"
   ]
  },
  {
   "cell_type": "code",
   "execution_count": null,
   "id": "f12b8f56-6644-47be-905e-ee9721e2bdf1",
   "metadata": {},
   "outputs": [],
   "source": [
    "all_state_ts_df_summary_deaths_AZ=all_state_ts_df_summary_deaths[all_state_ts_df_summary_deaths.state == ('AZ')]\n",
    "all_state_ts_df_summary_deaths_AZ=pd.DataFrame(all_state_ts_df_summary_deaths_AZ.groupby(['state','month-year']).sum().reset_index()[['month-year','state','actuals.deaths']])\n",
    "barplot=ggplot(data=all_state_ts_df_summary_deaths_AZ, mapping=aes(x='month-year',y='actuals.deaths',fill='state'))\n",
    "barplot+plotnine.geom_col()+plotnine.facets.facet_wrap('state')+plotnine.theme(axis_text_x =plotnine.element_text(rotation=90))+plotnine.geom_text(\n",
    "     aes(label='actuals.deaths'),stat='sum',nudge_y=0.3,size=6,va='bottom')"
   ]
  },
  {
   "cell_type": "code",
   "execution_count": null,
   "id": "ffb32ebb-8753-47b9-b87b-43ee40fc50c8",
   "metadata": {},
   "outputs": [],
   "source": [
    "all_state_ts_df_summary_deaths_CA=all_state_ts_df_summary_deaths[all_state_ts_df_summary_deaths.state == ('CA')]\n",
    "all_state_ts_df_summary_deaths_CA=pd.DataFrame(all_state_ts_df_summary_deaths_CA.groupby(['state','month-year']).sum().reset_index()[['month-year','state','actuals.deaths']])\n",
    "barplot=ggplot(data=all_state_ts_df_summary_deaths_CA, mapping=aes(x='month-year',y='actuals.deaths',fill='state'))\n",
    "barplot+plotnine.geom_col()+plotnine.facets.facet_wrap('state')+plotnine.theme(axis_text_x =plotnine.element_text(rotation=90))+plotnine.geom_text(\n",
    "     aes(label='actuals.deaths'),stat='sum',nudge_y=0.3,size=6,va='bottom')\n"
   ]
  },
  {
   "cell_type": "code",
   "execution_count": null,
   "id": "20b0b4f5-1d1e-438c-93f6-75333a1ad5eb",
   "metadata": {},
   "outputs": [],
   "source": [
    "all_state_ts_df_summary_deaths_FL=all_state_ts_df_summary_deaths[all_state_ts_df_summary_deaths.state == ('FL')]\n",
    "all_state_ts_df_summary_deaths_FL=pd.DataFrame(all_state_ts_df_summary_deaths_FL.groupby(['state','month-year']).sum().reset_index()[['month-year','state','actuals.deaths']])\n",
    "barplot=ggplot(data=all_state_ts_df_summary_deaths_FL, mapping=aes(x='month-year',y='actuals.deaths',fill='state'))\n",
    "barplot+plotnine.geom_col()+plotnine.facets.facet_wrap('state')+plotnine.theme(axis_text_x =plotnine.element_text(rotation=90))+plotnine.geom_text(\n",
    "     aes(label='actuals.deaths'),stat='sum',nudge_y=0.3,size=6,va='bottom')"
   ]
  },
  {
   "cell_type": "code",
   "execution_count": null,
   "id": "9d02924a-cea6-457f-a489-1e73c07b8def",
   "metadata": {},
   "outputs": [],
   "source": [
    "all_state_ts_df_summary_deaths_GA=all_state_ts_df_summary_deaths[all_state_ts_df_summary_deaths.state == ('GA')]\n",
    "all_state_ts_df_summary_deaths_GA=pd.DataFrame(all_state_ts_df_summary_deaths_GA.groupby(['state','month-year']).sum().reset_index()[['month-year','state','actuals.deaths']])\n",
    "barplot=ggplot(data=all_state_ts_df_summary_deaths_GA, mapping=aes(x='month-year',y='actuals.deaths',fill='state'))\n",
    "barplot+plotnine.geom_col()+plotnine.facets.facet_wrap('state')+plotnine.theme(axis_text_x =plotnine.element_text(rotation=90))+plotnine.geom_text(\n",
    "     aes(label='actuals.deaths'),stat='sum',nudge_y=0.3,size=6,va='bottom')"
   ]
  },
  {
   "cell_type": "code",
   "execution_count": null,
   "id": "b710daeb-a31d-45b0-8dc4-580817508dcb",
   "metadata": {},
   "outputs": [],
   "source": [
    "all_state_ts_df_summary_deaths_IL=all_state_ts_df_summary_deaths[all_state_ts_df_summary_deaths.state == ('IL')]\n",
    "all_state_ts_df_summary_deaths_IL=pd.DataFrame(all_state_ts_df_summary_deaths_IL.groupby(['state','month-year']).sum().reset_index()[['month-year','state','actuals.deaths']])\n",
    "barplot=ggplot(data=all_state_ts_df_summary_deaths_IL, mapping=aes(x='month-year',y='actuals.deaths',fill='state'))\n",
    "barplot+plotnine.geom_col()+plotnine.facets.facet_wrap('state')+plotnine.theme(axis_text_x =plotnine.element_text(rotation=90))+plotnine.geom_text(\n",
    "     aes(label='actuals.deaths'),stat='sum',nudge_y=0.3,size=6,va='bottom')"
   ]
  },
  {
   "cell_type": "code",
   "execution_count": null,
   "id": "da103f6d-8013-4355-babe-5f8de8c03539",
   "metadata": {},
   "outputs": [],
   "source": [
    "all_state_ts_df_summary_deaths_MA=all_state_ts_df_summary_deaths[all_state_ts_df_summary_deaths.state == ('MA')]\n",
    "all_state_ts_df_summary_deaths_MA=pd.DataFrame(all_state_ts_df_summary_deaths_MA.groupby(['state','month-year']).sum().reset_index()[['month-year','state','actuals.deaths']])\n",
    "barplot=ggplot(data=all_state_ts_df_summary_deaths_MA, mapping=aes(x='month-year',y='actuals.deaths',fill='state'))\n",
    "barplot+plotnine.geom_col()+plotnine.facets.facet_wrap('state')+plotnine.theme(axis_text_x =plotnine.element_text(rotation=90))+plotnine.geom_text(\n",
    "     aes(label='actuals.deaths'),stat='sum',nudge_y=0.3,size=6,va='bottom')"
   ]
  },
  {
   "cell_type": "code",
   "execution_count": null,
   "id": "22089a7f-5c7a-4dff-8ef0-1eb37106cb0e",
   "metadata": {},
   "outputs": [],
   "source": [
    "all_state_ts_df_summary_deaths_IL=all_state_ts_df_summary_deaths[all_state_ts_df_summary_deaths.state == ('MI')]\n",
    "all_state_ts_df_summary_deaths_IL=pd.DataFrame(all_state_ts_df_summary_deaths_IL.groupby(['state','month-year']).sum().reset_index()[['month-year','state','actuals.deaths']])\n",
    "barplot=ggplot(data=all_state_ts_df_summary_deaths_IL, mapping=aes(x='month-year',y='actuals.deaths',fill='state'))\n",
    "barplot+plotnine.geom_col()+plotnine.facets.facet_wrap('state')+plotnine.theme(axis_text_x =plotnine.element_text(rotation=90))+plotnine.geom_text(\n",
    "     aes(label='actuals.deaths'),stat='sum',nudge_y=0.3,size=6,va='bottom')"
   ]
  },
  {
   "cell_type": "code",
   "execution_count": null,
   "id": "06f28998-94ab-48ef-89f0-348e713016c9",
   "metadata": {},
   "outputs": [],
   "source": [
    "all_state_ts_df_summary_deaths_IL=all_state_ts_df_summary_deaths[all_state_ts_df_summary_deaths.state == ('NC')]\n",
    "all_state_ts_df_summary_deaths_IL=pd.DataFrame(all_state_ts_df_summary_deaths_IL.groupby(['state','month-year']).sum().reset_index()[['month-year','state','actuals.deaths']])\n",
    "barplot=ggplot(data=all_state_ts_df_summary_deaths_IL, mapping=aes(x='month-year',y='actuals.deaths',fill='state'))\n",
    "barplot+plotnine.geom_col()+plotnine.facets.facet_wrap('state')+plotnine.theme(axis_text_x =plotnine.element_text(rotation=90))+plotnine.geom_text(\n",
    "     aes(label='actuals.deaths'),stat='sum',nudge_y=0.3,size=6,va='bottom')"
   ]
  },
  {
   "cell_type": "code",
   "execution_count": null,
   "id": "c7418e37-4f49-4ee1-b5f8-07853fc05351",
   "metadata": {},
   "outputs": [],
   "source": [
    "all_state_ts_df_summary_deaths_IL=all_state_ts_df_summary_deaths[all_state_ts_df_summary_deaths.state == ('NJ')]\n",
    "all_state_ts_df_summary_deaths_IL=pd.DataFrame(all_state_ts_df_summary_deaths_IL.groupby(['state','month-year']).sum().reset_index()[['month-year','state','actuals.deaths']])\n",
    "barplot=ggplot(data=all_state_ts_df_summary_deaths_IL, mapping=aes(x='month-year',y='actuals.deaths',fill='state'))\n",
    "barplot+plotnine.geom_col()+plotnine.facets.facet_wrap('state')+plotnine.theme(axis_text_x =plotnine.element_text(rotation=90))+plotnine.geom_text(\n",
    "     aes(label='actuals.deaths'),stat='sum',nudge_y=0.3,size=6,va='bottom')"
   ]
  },
  {
   "cell_type": "code",
   "execution_count": null,
   "id": "8e93030d-ce94-40dc-aa63-02340ab46a01",
   "metadata": {},
   "outputs": [],
   "source": [
    "all_state_ts_df_summary_deaths_IL=all_state_ts_df_summary_deaths[all_state_ts_df_summary_deaths.state == ('NY')]\n",
    "all_state_ts_df_summary_deaths_IL=pd.DataFrame(all_state_ts_df_summary_deaths_IL.groupby(['state','month-year']).sum().reset_index()[['month-year','state','actuals.deaths']])\n",
    "barplot=ggplot(data=all_state_ts_df_summary_deaths_IL, mapping=aes(x='month-year',y='actuals.deaths',fill='state'))\n",
    "barplot+plotnine.geom_col()+plotnine.facets.facet_wrap('state')+plotnine.theme(axis_text_x =plotnine.element_text(rotation=90))+plotnine.geom_text(\n",
    "     aes(label='actuals.deaths'),stat='sum',nudge_y=0.3,size=6,va='bottom')"
   ]
  },
  {
   "cell_type": "code",
   "execution_count": null,
   "id": "4d3ea7bc-3350-4434-8eaa-c8dfc0c2a655",
   "metadata": {},
   "outputs": [],
   "source": [
    "all_state_ts_df_summary_deaths_IL=all_state_ts_df_summary_deaths[all_state_ts_df_summary_deaths.state == ('OH')]\n",
    "all_state_ts_df_summary_deaths_IL=pd.DataFrame(all_state_ts_df_summary_deaths_IL.groupby(['state','month-year']).sum().reset_index()[['month-year','state','actuals.deaths']])\n",
    "barplot=ggplot(data=all_state_ts_df_summary_deaths_IL, mapping=aes(x='month-year',y='actuals.deaths',fill='state'))\n",
    "barplot+plotnine.geom_col()+plotnine.facets.facet_wrap('state')+plotnine.theme(axis_text_x =plotnine.element_text(rotation=90))+plotnine.geom_text(\n",
    "     aes(label='actuals.deaths'),stat='sum',nudge_y=0.3,size=6,va='bottom')"
   ]
  },
  {
   "cell_type": "code",
   "execution_count": null,
   "id": "90927da5-7e33-4080-b410-5f3f4e966359",
   "metadata": {},
   "outputs": [],
   "source": [
    "all_state_ts_df_summary_deaths_IL=all_state_ts_df_summary_deaths[all_state_ts_df_summary_deaths.state == ('PA')]\n",
    "all_state_ts_df_summary_deaths_IL=pd.DataFrame(all_state_ts_df_summary_deaths_IL.groupby(['state','month-year']).sum().reset_index()[['month-year','state','actuals.deaths']])\n",
    "barplot=ggplot(data=all_state_ts_df_summary_deaths_IL, mapping=aes(x='month-year',y='actuals.deaths',fill='state'))\n",
    "barplot+plotnine.geom_col()+plotnine.facets.facet_wrap('state')+plotnine.theme(axis_text_x =plotnine.element_text(rotation=90))+plotnine.geom_text(\n",
    "     aes(label='actuals.deaths'),stat='sum',nudge_y=0.3,size=6,va='bottom')"
   ]
  },
  {
   "cell_type": "code",
   "execution_count": null,
   "id": "23488758-5d88-48b4-8241-44ece8834a33",
   "metadata": {},
   "outputs": [],
   "source": [
    "all_state_ts_df_summary_deaths_TX=all_state_ts_df_summary_deaths[all_state_ts_df_summary_deaths.state == ('TX')]\n",
    "all_state_ts_df_summary_deaths_TX=pd.DataFrame(all_state_ts_df_summary_deaths_TX.groupby(['state','month-year']).sum().reset_index()[['month-year','state','actuals.deaths']])\n",
    "barplot=ggplot(data=all_state_ts_df_summary_deaths_TX, mapping=aes(x='month-year',y='actuals.deaths',fill='state'))\n",
    "barplot+plotnine.geom_col()+plotnine.facets.facet_wrap('state')+plotnine.theme(axis_text_x =plotnine.element_text(rotation=90))+plotnine.geom_text(\n",
    "     aes(label='actuals.deaths'),stat='sum',nudge_y=0.3,size=6,va='bottom')"
   ]
  },
  {
   "cell_type": "code",
   "execution_count": null,
   "id": "57e64c79-436f-4ed4-a88e-c2f5ec1cf71d",
   "metadata": {},
   "outputs": [],
   "source": [
    "all_state_ts_df_summary_deaths_TN=all_state_ts_df_summary_deaths[all_state_ts_df_summary_deaths.state == ('TN')]\n",
    "all_state_ts_df_summary_deaths_TN=pd.DataFrame(all_state_ts_df_summary_deaths_TN.groupby(['state','month-year']).sum().reset_index()[['month-year','state','actuals.deaths']])\n",
    "barplot=ggplot(data=all_state_ts_df_summary_deaths_TN, mapping=aes(x='month-year',y='actuals.deaths',fill='state'))\n",
    "barplot+plotnine.geom_col()+plotnine.facets.facet_wrap('state')+plotnine.theme(axis_text_x =plotnine.element_text(rotation=90))+plotnine.geom_text(\n",
    "     aes(label='actuals.deaths'),stat='sum',nudge_y=0.3,size=6,va='bottom')"
   ]
  },
  {
   "cell_type": "code",
   "execution_count": null,
   "id": "c0022315-d437-4fa8-a71c-2f7a5a238201",
   "metadata": {},
   "outputs": [],
   "source": [
    "all_state_ts_df_summary_cases_dt=pd.DataFrame(all_state_ts_df_summary.groupby(['month-year','state']).sum().reset_index()[['month-year','state','actuals.cases']])\n",
    "all_state_ts_df_summary_cases_dt\n",
    "barplot=ggplot(data=all_state_ts_df_summary_cases_dt, mapping=aes(x='state',y='actuals.cases',fill='state',group = 1))\n",
    "barplot+plotnine.geom_line()+plotnine.geom_point()+plotnine.facets.facet_wrap('month-year')+plotnine.theme(axis_text_x =plotnine.element_text(rotation=90))+plotnine.geom_text(\n",
    "     aes(label='state'),\n",
    "         nudge_y=0.3,\n",
    "     size=6,\n",
    "     va='bottom')"
   ]
  },
  {
   "cell_type": "code",
   "execution_count": null,
   "id": "5c3c31cc-411d-48a9-9399-e429a4506d5f",
   "metadata": {},
   "outputs": [],
   "source": [
    "all_state_ts_df_summary_cases_dt_01_2021=all_state_ts_df_summary_cases_dt[all_state_ts_df_summary_cases_dt['month-year'] == ('2021-01')]\n",
    "all_state_ts_df_summary_cases_dt_01_2021=pd.DataFrame(all_state_ts_df_summary_cases_dt_01_2021.groupby(['month-year','state']).sum().reset_index()[['month-year','state','actuals.cases']])\n",
    "barplot=ggplot(data=all_state_ts_df_summary_cases_dt_01_2021, mapping=aes(x='state',y='actuals.cases',fill='state',group = 1))\n",
    "barplot+plotnine.geom_line()+plotnine.geom_point()+plotnine.facets.facet_wrap('month-year')+plotnine.theme(axis_text_x =plotnine.element_text(rotation=90))+plotnine.geom_text(\n",
    "     aes(label='state'),\n",
    "         nudge_y=0.3,\n",
    "     size=6,\n",
    "     va='bottom')"
   ]
  },
  {
   "cell_type": "code",
   "execution_count": null,
   "id": "679a9ca3-675b-439b-8fd5-c63b600a380b",
   "metadata": {},
   "outputs": [],
   "source": [
    "all_state_ts_df_summary_cases_dt_02_2021=all_state_ts_df_summary_cases_dt[all_state_ts_df_summary_cases_dt['month-year'] == ('2021-02')]\n",
    "all_state_ts_df_summary_cases_dt_02_2021=pd.DataFrame(all_state_ts_df_summary_cases_dt_02_2021.groupby(['month-year','state']).sum().reset_index()[['month-year','state','actuals.cases']])\n",
    "barplot=ggplot(data=all_state_ts_df_summary_cases_dt_02_2021, mapping=aes(x='state',y='actuals.cases',fill='state',group = 1))\n",
    "barplot+plotnine.geom_line()+plotnine.geom_point()+plotnine.facets.facet_wrap('month-year')+plotnine.theme(axis_text_x =plotnine.element_text(rotation=90))+plotnine.geom_text(\n",
    "     aes(label='state'),\n",
    "         nudge_y=0.3,\n",
    "     size=6,\n",
    "     va='bottom')"
   ]
  },
  {
   "cell_type": "code",
   "execution_count": null,
   "id": "34fa9c7b-a2d8-47b8-9a4a-bf74539ff0f5",
   "metadata": {},
   "outputs": [],
   "source": [
    "all_state_ts_df_summary_cases_dt_03_2021=all_state_ts_df_summary_cases_dt[all_state_ts_df_summary_cases_dt['month-year'] == ('2021-03')]\n",
    "all_state_ts_df_summary_cases_dt_03_2021=pd.DataFrame(all_state_ts_df_summary_cases_dt_03_2021.groupby(['month-year','state']).sum().reset_index()[['month-year','state','actuals.cases']])\n",
    "barplot=ggplot(data=all_state_ts_df_summary_cases_dt_03_2021, mapping=aes(x='state',y='actuals.cases',fill='state',group = 1))\n",
    "barplot+plotnine.geom_line()+plotnine.geom_point()+plotnine.facets.facet_wrap('month-year')+plotnine.theme(axis_text_x =plotnine.element_text(rotation=90))+plotnine.geom_text(\n",
    "     aes(label='state'),\n",
    "         nudge_y=0.3,\n",
    "     size=6,\n",
    "     va='bottom')"
   ]
  },
  {
   "cell_type": "code",
   "execution_count": null,
   "id": "cd112017-ee8a-4a31-a12a-24b081a41f5b",
   "metadata": {},
   "outputs": [],
   "source": [
    "all_state_ts_df_summary_cases_dt_04_2021=all_state_ts_df_summary_cases_dt[all_state_ts_df_summary_cases_dt['month-year'] == ('2021-04')]\n",
    "all_state_ts_df_summary_cases_dt_04_2021=pd.DataFrame(all_state_ts_df_summary_cases_dt_04_2021.groupby(['month-year','state']).sum().reset_index()[['month-year','state','actuals.cases']])\n",
    "barplot=ggplot(data=all_state_ts_df_summary_cases_dt_04_2021, mapping=aes(x='state',y='actuals.cases',fill='state',group = 1))\n",
    "barplot+plotnine.geom_line()+plotnine.geom_point()+plotnine.facets.facet_wrap('month-year')+plotnine.theme(axis_text_x =plotnine.element_text(rotation=90))+plotnine.geom_text(\n",
    "     aes(label='state'),\n",
    "         nudge_y=0.3,\n",
    "     size=6,\n",
    "     va='bottom')"
   ]
  },
  {
   "cell_type": "code",
   "execution_count": null,
   "id": "fc3982c6-96fe-46f7-8285-78827e56afed",
   "metadata": {},
   "outputs": [],
   "source": [
    "all_state_ts_df_summary_cases_dt_05_2021=all_state_ts_df_summary_cases_dt[all_state_ts_df_summary_cases_dt['month-year'] == ('2021-05')]\n",
    "all_state_ts_df_summary_cases_dt_05_2021=pd.DataFrame(all_state_ts_df_summary_cases_dt_05_2021.groupby(['month-year','state']).sum().reset_index()[['month-year','state','actuals.cases']])\n",
    "barplot=ggplot(data=all_state_ts_df_summary_cases_dt_05_2021, mapping=aes(x='state',y='actuals.cases',fill='state',group = 1))\n",
    "barplot+plotnine.geom_line()+plotnine.geom_point()+plotnine.facets.facet_wrap('month-year')+plotnine.theme(axis_text_x =plotnine.element_text(rotation=90))+plotnine.geom_text(\n",
    "     aes(label='state'),\n",
    "         nudge_y=0.3,\n",
    "     size=6,\n",
    "     va='bottom')"
   ]
  },
  {
   "cell_type": "code",
   "execution_count": null,
   "id": "8d673576-b37c-4278-b420-f3bebf2f64ab",
   "metadata": {},
   "outputs": [],
   "source": [
    "all_state_ts_df_summary_cases_dt_06_2021=all_state_ts_df_summary_cases_dt[all_state_ts_df_summary_cases_dt['month-year'] == ('2021-06')]\n",
    "all_state_ts_df_summary_cases_dt_06_2021=pd.DataFrame(all_state_ts_df_summary_cases_dt_06_2021.groupby(['month-year','state']).sum().reset_index()[['month-year','state','actuals.cases']])\n",
    "barplot=ggplot(data=all_state_ts_df_summary_cases_dt_06_2021, mapping=aes(x='state',y='actuals.cases',fill='state',group = 1))\n",
    "barplot+plotnine.geom_line()+plotnine.geom_point()+plotnine.facets.facet_wrap('month-year')+plotnine.theme(axis_text_x =plotnine.element_text(rotation=90))+plotnine.geom_text(\n",
    "     aes(label='state'),\n",
    "         nudge_y=0.3,\n",
    "     size=6,\n",
    "     va='bottom')"
   ]
  },
  {
   "cell_type": "code",
   "execution_count": null,
   "id": "d3b64c8a-92f8-43d5-9779-9537ec0f2351",
   "metadata": {},
   "outputs": [],
   "source": [
    "all_state_ts_df_summary_deaths_dt=pd.DataFrame(all_state_ts_df_summary.groupby(['month-year','state']).sum().reset_index()[['month-year','state','actuals.deaths']])\n",
    "all_state_ts_df_summary_deaths_dt\n",
    "barplot=ggplot(data=all_state_ts_df_summary_deaths_dt, mapping=aes(x='state',y='actuals.deaths',fill='state',group = 1))\n",
    "barplot+plotnine.geom_line()+plotnine.geom_point()+plotnine.facets.facet_wrap('month-year')+plotnine.theme(axis_text_x =plotnine.element_text(rotation=90))+plotnine.geom_text(\n",
    "     aes(label='state'),\n",
    "         nudge_y=0.3,\n",
    "     size=6,\n",
    "     va='bottom')"
   ]
  },
  {
   "cell_type": "code",
   "execution_count": null,
   "id": "676dccea-98b2-49ad-81c8-917745138632",
   "metadata": {},
   "outputs": [],
   "source": [
    "all_state_ts_df_summary_deaths_dt_01_2021=all_state_ts_df_summary_deaths_dt[all_state_ts_df_summary_deaths_dt['month-year'] == ('2021-01')]\n",
    "all_state_ts_df_summary_deaths_dt_01_2021=pd.DataFrame(all_state_ts_df_summary_deaths_dt_01_2021.groupby(['month-year','state']).sum().reset_index()[['month-year','state','actuals.deaths']])\n",
    "barplot=ggplot(data=all_state_ts_df_summary_deaths_dt_01_2021, mapping=aes(x='state',y='actuals.deaths',fill='state',group = 1))\n",
    "barplot+plotnine.geom_line()+plotnine.geom_point()+plotnine.facets.facet_wrap('month-year')+plotnine.theme(axis_text_x =plotnine.element_text(rotation=90))+plotnine.geom_text(\n",
    "     aes(label='state'),\n",
    "         nudge_y=0.3,\n",
    "     size=6,\n",
    "     va='bottom')"
   ]
  },
  {
   "cell_type": "code",
   "execution_count": null,
   "id": "54a48f6a-1669-430c-9180-97756a8f0ae1",
   "metadata": {},
   "outputs": [],
   "source": [
    "all_state_ts_df_summary_deaths_dt_02_2021=all_state_ts_df_summary_deaths_dt[all_state_ts_df_summary_deaths_dt['month-year'] == ('2021-02')]\n",
    "all_state_ts_df_summary_deaths_dt_02_2021=pd.DataFrame(all_state_ts_df_summary_deaths_dt_02_2021.groupby(['month-year','state']).sum().reset_index()[['month-year','state','actuals.deaths']])\n",
    "barplot=ggplot(data=all_state_ts_df_summary_deaths_dt_02_2021, mapping=aes(x='state',y='actuals.deaths',fill='state',group = 1))\n",
    "barplot+plotnine.geom_line()+plotnine.geom_point()+plotnine.facets.facet_wrap('month-year')+plotnine.theme(axis_text_x =plotnine.element_text(rotation=90))+plotnine.geom_text(\n",
    "     aes(label='state'),\n",
    "         nudge_y=0.3,\n",
    "     size=6,\n",
    "     va='bottom')"
   ]
  },
  {
   "cell_type": "code",
   "execution_count": null,
   "id": "4da346bc-9499-471c-bc94-e7f48fd303fb",
   "metadata": {},
   "outputs": [],
   "source": [
    "all_state_ts_df_summary_deaths_dt_03_2021=all_state_ts_df_summary_deaths_dt[all_state_ts_df_summary_deaths_dt['month-year'] == ('2021-03')]\n",
    "all_state_ts_df_summary_deaths_dt_03_2021=pd.DataFrame(all_state_ts_df_summary_deaths_dt_03_2021.groupby(['month-year','state']).sum().reset_index()[['month-year','state','actuals.deaths']])\n",
    "barplot=ggplot(data=all_state_ts_df_summary_deaths_dt_03_2021, mapping=aes(x='state',y='actuals.deaths',fill='state',group = 1))\n",
    "barplot+plotnine.geom_line()+plotnine.geom_point()+plotnine.facets.facet_wrap('month-year')+plotnine.theme(axis_text_x =plotnine.element_text(rotation=90))+plotnine.geom_text(\n",
    "     aes(label='state'),\n",
    "         nudge_y=0.3,\n",
    "     size=6,\n",
    "     va='bottom')"
   ]
  },
  {
   "cell_type": "code",
   "execution_count": null,
   "id": "4aa3d73b-f107-4045-bf4f-efe366dcbe3c",
   "metadata": {},
   "outputs": [],
   "source": [
    "all_state_ts_df_summary_deaths_dt_04_2021=all_state_ts_df_summary_deaths_dt[all_state_ts_df_summary_deaths_dt['month-year'] == ('2021-04')]\n",
    "all_state_ts_df_summary_deaths_dt_04_2021=pd.DataFrame(all_state_ts_df_summary_deaths_dt_04_2021.groupby(['month-year','state']).sum().reset_index()[['month-year','state','actuals.deaths']])\n",
    "barplot=ggplot(data=all_state_ts_df_summary_deaths_dt_04_2021, mapping=aes(x='state',y='actuals.deaths',fill='state',group = 1))\n",
    "barplot+plotnine.geom_line()+plotnine.geom_point()+plotnine.facets.facet_wrap('month-year')+plotnine.theme(axis_text_x =plotnine.element_text(rotation=90))+plotnine.geom_text(\n",
    "     aes(label='state'),\n",
    "         nudge_y=0.3,\n",
    "     size=6,\n",
    "     va='bottom')"
   ]
  },
  {
   "cell_type": "code",
   "execution_count": null,
   "id": "0ba72f8b-9f3e-4ec0-bd6c-c91bc9510488",
   "metadata": {},
   "outputs": [],
   "source": [
    "all_state_ts_df_summary_deaths_dt_05_2021=all_state_ts_df_summary_deaths_dt[all_state_ts_df_summary_deaths_dt['month-year'] == ('2021-05')]\n",
    "all_state_ts_df_summary_deaths_dt_05_2021=pd.DataFrame(all_state_ts_df_summary_deaths_dt_05_2021.groupby(['month-year','state']).sum().reset_index()[['month-year','state','actuals.deaths']])\n",
    "barplot=ggplot(data=all_state_ts_df_summary_deaths_dt_05_2021, mapping=aes(x='state',y='actuals.deaths',fill='state',group = 1))\n",
    "barplot+plotnine.geom_line()+plotnine.geom_point()+plotnine.facets.facet_wrap('month-year')+plotnine.theme(axis_text_x =plotnine.element_text(rotation=90))+plotnine.geom_text(\n",
    "     aes(label='state'),\n",
    "         nudge_y=0.3,\n",
    "     size=6,\n",
    "     va='bottom')"
   ]
  },
  {
   "cell_type": "code",
   "execution_count": null,
   "id": "7339796c-7090-4941-8a68-1668f3e8ed52",
   "metadata": {},
   "outputs": [],
   "source": [
    "all_state_ts_df_summary_deaths_dt_06_2021=all_state_ts_df_summary_deaths_dt[all_state_ts_df_summary_deaths_dt['month-year'] == ('2021-06')]\n",
    "all_state_ts_df_summary_deaths_dt_06_2021=pd.DataFrame(all_state_ts_df_summary_deaths_dt_06_2021.groupby(['month-year','state']).sum().reset_index()[['month-year','state','actuals.deaths']])\n",
    "barplot=ggplot(data=all_state_ts_df_summary_deaths_dt_06_2021, mapping=aes(x='state',y='actuals.deaths',fill='state',group = 1))\n",
    "barplot+plotnine.geom_line()+plotnine.geom_point()+plotnine.facets.facet_wrap('month-year')+plotnine.theme(axis_text_x =plotnine.element_text(rotation=90))+plotnine.geom_text(\n",
    "     aes(label='state'),\n",
    "         nudge_y=0.3,\n",
    "     size=6,\n",
    "     va='bottom')"
   ]
  },
  {
   "cell_type": "code",
   "execution_count": null,
   "id": "4890e56a-0769-4568-8f1b-ecddde91f69f",
   "metadata": {},
   "outputs": [],
   "source": []
  }
 ],
 "metadata": {
  "kernelspec": {
   "display_name": "Python 3",
   "language": "python",
   "name": "python3"
  },
  "language_info": {
   "codemirror_mode": {
    "name": "ipython",
    "version": 3
   },
   "file_extension": ".py",
   "mimetype": "text/x-python",
   "name": "python",
   "nbconvert_exporter": "python",
   "pygments_lexer": "ipython3",
   "version": "3.8.8"
  }
 },
 "nbformat": 4,
 "nbformat_minor": 5
}
