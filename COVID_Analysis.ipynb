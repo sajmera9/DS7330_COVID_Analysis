{
 "cells": [
  {
   "cell_type": "code",
   "execution_count": 21,
   "metadata": {},
   "outputs": [],
   "source": [
    "import config\n",
    "from config import api_key\n",
    "import pandas as pd\n",
    "import numpy as np\n",
    "import requests\n",
    "from pprint import pprint\n"
   ]
  },
  {
   "cell_type": "markdown",
   "metadata": {},
   "source": [
    "https://covidactnow.org/data-api\n",
    "https://apidocs.covidactnow.org/data-definitions/"
   ]
  },
  {
   "cell_type": "code",
   "execution_count": 15,
   "metadata": {},
   "outputs": [],
   "source": [
    "name_state = \"CA\""
   ]
  },
  {
   "cell_type": "code",
   "execution_count": 19,
   "metadata": {},
   "outputs": [],
   "source": [
    "url = f\"https://api.covidactnow.org/v2/state/{name_state}.timeseries.json?apiKey={api_key}\"\n"
   ]
  },
  {
   "cell_type": "code",
   "execution_count": 26,
   "metadata": {},
   "outputs": [
    {
     "data": {
      "text/plain": [
       "{'testPositivityRatio': 0.007188775907704035,\n",
       " 'testPositivityRatioDetails': {'source': 'other'},\n",
       " 'caseDensity': 2.3359860061530835,\n",
       " 'contactTracerCapacityRatio': 2.2968580715059588,\n",
       " 'infectionRate': 0.8834302411280001,\n",
       " 'infectionRateCI90': 0.09999999999999998,\n",
       " 'icuHeadroomRatio': 0.10206663854913539,\n",
       " 'icuHeadroomDetails': {'currentIcuCovid': 242,\n",
       "  'currentIcuCovidMethod': 'actual',\n",
       "  'currentIcuNonCovid': 4596,\n",
       "  'currentIcuNonCovidMethod': 'actual'},\n",
       " 'icuCapacityRatio': 0.6944165350940147,\n",
       " 'vaccinationsInitiatedRatio': 0.5794157924245366,\n",
       " 'vaccinationsCompletedRatio': 0.4459438032631067}"
      ]
     },
     "execution_count": 26,
     "metadata": {},
     "output_type": "execute_result"
    }
   ],
   "source": [
    "covid_response = requests.get(url).json()\n",
    "covid_response[\"metrics\"]"
   ]
  }
 ],
 "metadata": {
  "kernelspec": {
   "display_name": "Python 3.7.5 64-bit ('PythonData': conda)",
   "language": "python",
   "name": "python37564bitpythondatacondabec8827403bf4b13bfd7414cd4c5629e"
  },
  "language_info": {
   "codemirror_mode": {
    "name": "ipython",
    "version": 3
   },
   "file_extension": ".py",
   "mimetype": "text/x-python",
   "name": "python",
   "nbconvert_exporter": "python",
   "pygments_lexer": "ipython3",
   "version": "3.7.5"
  }
 },
 "nbformat": 4,
 "nbformat_minor": 2
}
